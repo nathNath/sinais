{
 "cells": [
  {
   "cell_type": "markdown",
   "metadata": {},
   "source": [
    "# Projeto de Sinais\n",
    "\n",
    "## Sinais e Sistemas Dinâmicos - Prof. Derzu Omaia\n",
    "\n",
    "## Jansepetrus Brasileiro Pereira e Nathália de Vasconcelos Silva\n",
    "\n",
    "Descrição do projeto: https://www.dropbox.com/s/wzibx7g7136um4z/Projeto.pdf?dl=0"
   ]
  },
  {
   "cell_type": "markdown",
   "metadata": {},
   "source": [
    "### Importar todas as bibliotecas necessárias para o projeto"
   ]
  },
  {
   "cell_type": "code",
   "execution_count": null,
   "metadata": {},
   "outputs": [],
   "source": [
    "import os\n",
    "import numpy as np\n",
    "import pandas as pd\n",
    "import matplotlib.pyplot as plt\n",
    "from scipy.io import wavfile\n",
    "from scipy.fftpack import fft\n",
    "from scipy.signal import butter, lfilter\n",
    "from sklearn.preprocessing import LabelEncoder, StandardScaler\n",
    "from sklearn.model_selection import train_test_split"
   ]
  },
  {
   "cell_type": "markdown",
   "metadata": {},
   "source": [
    "### Definicao das funções de usuário a serem utilizadas"
   ]
  },
  {
   "cell_type": "code",
   "execution_count": null,
   "metadata": {},
   "outputs": [],
   "source": [
    "def plot_wav(wav, sample_rate, save_plot=False, nome_plot=\"\", sufixo_nome=\"\"):\n",
    "    if(nome_plot == \"\"):\n",
    "        from datetime import datetime\n",
    "        nome_plot = str(datetime.now()).replace(\":\",\"-\")\n",
    "        \n",
    "    times = np.arange(len(wav))/float(sample_rate)\n",
    "\n",
    "    plt.figure(figsize=(30, 4))\n",
    "\n",
    "    if(wav.ndim == 2):\n",
    "        plt.fill_between(times, wav[:,0], wav[:,1], color='k') # para dual-channel\n",
    "    else:\n",
    "        plt.fill_between(times, wav)\n",
    "\n",
    "    plt.xlim(times[0], times[-1])\n",
    "    plt.xlabel('time (s)')\n",
    "    plt.ylabel('amplitude')\n",
    "    \n",
    "    if(save_plot):\n",
    "        plt.savefig(nome_plot + \"_\" + sufixo_nome + '.png', dpi=210)\n",
    "    plt.show()\n",
    "\n",
    "def plot_wav_freqDomain(fft_wav, freq, N, save_plot=False, nome_plot=\"\", sufixo_nome=\"\"):\n",
    "    if(nome_plot == \"\"):\n",
    "        from datetime import datetime\n",
    "        nome_plot = str(datetime.now()).replace(\":\",\"-\")\n",
    "        \n",
    "    plt.plot(freq, 1.0/N * np.abs(fft_wav))\n",
    "    plt.grid()\n",
    "    if(save_plot):\n",
    "        plt.savefig(nome_plot + \"_\" + sufixo_nome + '.png', dpi=210)\n",
    "    plt.show()"
   ]
  },
  {
   "cell_type": "markdown",
   "metadata": {},
   "source": [
    "### Definição dos Parâmetros de Execução"
   ]
  },
  {
   "cell_type": "code",
   "execution_count": null,
   "metadata": {},
   "outputs": [],
   "source": [
    "####\n",
    "# Parametros de Execucao\n",
    "####\n",
    "PLOT_SINAL_ORIGINAL = False\n",
    "PLOT_SINAL_FFT = False\n",
    "PLOT_SINAL_FFT_SHIFT = False\n",
    "PLOT_SINAL_FFT_SHIFT_BUTTER = False\n",
    "MONO = True\n",
    "MONO_ESQ = True\n",
    "STEREO = not MONO\n",
    "MONO_DIR = not MONO_ESQ"
   ]
  },
  {
   "cell_type": "markdown",
   "metadata": {},
   "source": [
    "### Percorrer a pasta do dataset IRMAS, abrir todos os arquivos .wav e aplicar a transformada de Fourier"
   ]
  },
  {
   "cell_type": "code",
   "execution_count": null,
   "metadata": {},
   "outputs": [],
   "source": [
    "ROOT_PATH = 'IRMAS-TrainingData_red' + os.sep\n",
    "for root, dirs, files in os.walk(ROOT_PATH):  \n",
    "    for filename in files:\n",
    "        ####\n",
    "        # Leitura do arquivo WAV\n",
    "        ####\n",
    "        print(root + os.sep + filename)\n"
   ]
  },
  {
   "cell_type": "code",
   "execution_count": null,
   "metadata": {
    "scrolled": true
   },
   "outputs": [],
   "source": [
    "ROOT_PATH = 'IRMAS-TrainingData_red' + os.sep\n",
    "\n",
    "signal_dataset = []\n",
    "\n",
    "for root, dirs, files in os.walk(ROOT_PATH):  \n",
    "    for filename in files:\n",
    "        ####\n",
    "        # Leitura do arquivo WAV\n",
    "        ####\n",
    "        sample_rate, wav_data = wavfile.read(root + os.sep + filename)\n",
    "\n",
    "        ####\n",
    "        # Captura do sinal em um ndarray\n",
    "        ####\n",
    "        if(wav_data.ndim == 2):\n",
    "            if(STEREO):\n",
    "                x = wav_data\n",
    "        if(MONO_DIR):\n",
    "            x = wav_data[0:,1] # canal da direita\n",
    "        if(MONO_ESQ):\n",
    "            x = wav_data[0:,0] # canal da esquerda\n",
    "        \n",
    "        if (PLOT_SINAL_ORIGINAL):\n",
    "            plot_wav(x, sample_rate, sufixo_nome=\"ORIG\", save_plot=True, nome_plot=filename)\n",
    "\n",
    "        ####\n",
    "        # Especificacoes do dominio do tempo\n",
    "        ####\n",
    "        L = x.size\n",
    "        dt = 1/sample_rate # Periodo de amostragem\n",
    "        t = np.arange(0, (L/sample_rate)-dt, dt) # Discretizacao da amostragem ao passo ((L/sample_rate)-dt)\n",
    "        N = t.size + 1\n",
    "        \n",
    "        ####\n",
    "        # Aplicacao da FFT e Calculo da Frequencia do sinal\n",
    "        ####\n",
    "        fft_output = fft(x) # Fourier.\n",
    "        fft_out_freq = np.fft.fftfreq(N,dt)\n",
    "        \n",
    "        if (PLOT_SINAL_FFT):\n",
    "            plot_wav_freqDomain(fft_output, fft_out_freq, N, sufixo_nome=\"FFT\", save_plot=True, nome_plot=filename)\n",
    "        \n",
    "        freq_max = np.amax(fft_out_freq)\n",
    "        \n",
    "        ####\n",
    "        # Movimentacao dos componentes de frequencia zero para o centro do espectro\n",
    "        ####\n",
    "        fft_out_freq = np.fft.fftshift(fft_out_freq)\n",
    "        fft_shifted = np.fft.fftshift( fft_output ) # Desloca o centro zero da transformada para o centro.\n",
    "        \n",
    "        if (PLOT_SINAL_FFT_SHIFT):\n",
    "            plot_wav_freqDomain(fft_shifted, fft_out_freq, N, sufixo_nome=\"FFT-SHIFT\", save_plot=True, nome_plot=filename)\n",
    "        \n",
    "        ####\n",
    "        # Aplicacao do Filtro Passa-Baixa Butterworth\n",
    "        ####\n",
    "        freq_corte = 5000 # TODO: Precisa descobrir se essa e' uma boa frequencia de corte para utilizar no Passa-Baixa Butterworth\n",
    "        b, a = butter(6, freq_corte/(0.5 * sample_rate), btype='low') # filtro Butterworth passa-baixa de 6a ordem \n",
    "        fft_X_filtro = lfilter(b, a, fft_shifted)\n",
    "        \n",
    "        if(PLOT_SINAL_FFT_SHIFT_BUTTER):\n",
    "            plot_wav_freqDomain(fft_X_filtro, fft_out_freq, N, sufixo_nome=\"FFT-SHIFT-FILT\", save_plot=True, nome_plot=filename)\n",
    "        \n",
    "        ####\n",
    "        # Adicao do sinal filtrado ao DataSet, para ser transformado em um DataFrame.\n",
    "        ####\n",
    "        signal_dataset.append(fft_X_filtro)\n",
    "\n",
    "df_data = pd.DataFrame(signal_dataset)\n",
    "DATAFRAME_NAME = 'WAV_DF.pkl'\n",
    "df_data.to_pickle(DATAFRAME_NAME)"
   ]
  },
  {
   "cell_type": "markdown",
   "metadata": {},
   "source": [
    "### Guardar o DataFrame no PC, para evitar executar o código acima"
   ]
  },
  {
   "cell_type": "code",
   "execution_count": null,
   "metadata": {},
   "outputs": [],
   "source": [
    "DATAFRAME_NAME = 'WAV_DF.pkl'\n",
    "df_data.to_pickle(DATAFRAME_NAME)"
   ]
  },
  {
   "cell_type": "markdown",
   "metadata": {},
   "source": [
    "### Ler um DataFrame salvo na máquina"
   ]
  },
  {
   "cell_type": "code",
   "execution_count": null,
   "metadata": {
    "scrolled": true
   },
   "outputs": [],
   "source": [
    "DATAFRAME_NAME = 'WAV_DF_RED.pkl'\n",
    "data_frame = pd.read_pickle(DATAFRAME_NAME)"
   ]
  },
  {
   "cell_type": "markdown",
   "metadata": {},
   "source": [
    "### Criar a coluna que especifica a classe do instrumento de cada sinal"
   ]
  },
  {
   "cell_type": "code",
   "execution_count": null,
   "metadata": {
    "scrolled": true
   },
   "outputs": [],
   "source": [
    "type_of_instruments = ['cel', 'cla', 'flu', 'gac', 'gel', 'org', 'pia', 'sax', 'tru', 'vio']\n",
    "\n",
    "#for i in range (0, 10):\n",
    "data_frame = data_frame.assign(instrument = type_of_instruments)\n",
    "\n",
    "data_frame"
   ]
  },
  {
   "cell_type": "markdown",
   "metadata": {},
   "source": [
    "### Usar o LabelEncoder na classe instrumento de cada sinal\n",
    "\n",
    "Referência: http://scikit-learn.org/stable/modules/generated/sklearn.preprocessing.LabelEncoder.html"
   ]
  },
  {
   "cell_type": "code",
   "execution_count": null,
   "metadata": {},
   "outputs": [],
   "source": [
    "instrument = data_frame.iloc[:, 13228].values\n",
    "instrument = LabelEncoder().fit_transform(instrument)\n",
    "data_frame['instrument'] = instrument\n",
    "data_frame\n"
   ]
  },
  {
   "cell_type": "markdown",
   "metadata": {},
   "source": [
    "### Preparar variáveis para treino e teste do algoritmo de aprendizagem de máquina"
   ]
  },
  {
   "cell_type": "code",
   "execution_count": null,
   "metadata": {},
   "outputs": [],
   "source": [
    "nX = data_frame.iloc[:, :-1].values\n",
    "ny = data_frame.iloc[:, 13228].values\n",
    "\n",
    "X_train, X_test, y_train, y_test = train_test_split(nX, ny, test_size = 0.1, random_state = 42)"
   ]
  },
  {
   "cell_type": "markdown",
   "metadata": {},
   "source": [
    "### Usar o StandardScaler para alterar a escala dos dados para que o peso deles seja levado em consideração igualmente\n",
    "\n",
    "Referência: http://scikit-learn.org/stable/modules/generated/sklearn.preprocessing.StandardScaler.html"
   ]
  },
  {
   "cell_type": "code",
   "execution_count": null,
   "metadata": {
    "scrolled": true
   },
   "outputs": [],
   "source": [
    "X_train = StandardScaler().fit_transform(X_train)\n",
    "X_test = StandardScaler().fit_transform(X_test)"
   ]
  },
  {
   "cell_type": "markdown",
   "metadata": {},
   "source": [
    "### Executar o algoritmo K-NN para treinar a máquina\n",
    "\n",
    "- n_neighbors = 1    | Seguindo a especificação do trabalho para k = 1\n",
    "- metric = minkowski | Métrica padrão da distância euclidiana\n",
    "- p = 2              | Parâmetro da potência para a distância euclidiana\n",
    "\n",
    "Referência: http://scikit-learn.org/stable/modules/generated/sklearn.neighbors.KNeighborsClassifier.html#sklearn-neighbors-kneighborsclassifier"
   ]
  },
  {
   "cell_type": "code",
   "execution_count": null,
   "metadata": {},
   "outputs": [],
   "source": [
    "from sklearn.neighbors import KNeighborsClassifier\n",
    "classifier = KNeighborsClassifier(n_neighbors = 1, metric = 'minkowski', p = 2)\n",
    "classifier.fit(X_train, y_train)"
   ]
  },
  {
   "cell_type": "markdown",
   "metadata": {},
   "source": [
    "### Predizer o resultado da aprendizagem de máquina considerando as variáveis de teste"
   ]
  },
  {
   "cell_type": "code",
   "execution_count": null,
   "metadata": {},
   "outputs": [],
   "source": [
    "y_pred = classifier.predict(X_test)"
   ]
  },
  {
   "cell_type": "markdown",
   "metadata": {},
   "source": [
    "### Matriz de confusão\n",
    "\n",
    "Com a matriz de confusão percebemos os Falsos Positivos (FP), Falsos Negativos (FN), Verdadeiros Positivos (VP), Verdadeiros Negativos (VN). Na linha 1 da matriz de confusão temos o VN e o FN. Na linha 2 temos o FP e o VP.\n",
    "\n",
    "Referência: https://www.dataschool.io/simple-guide-to-confusion-matrix-terminology/"
   ]
  },
  {
   "cell_type": "code",
   "execution_count": null,
   "metadata": {
    "scrolled": true
   },
   "outputs": [],
   "source": [
    "from sklearn.metrics import confusion_matrix\n",
    "cm = confusion_matrix(y_test, y_pred)\n",
    "print(cm)"
   ]
  },
  {
   "cell_type": "markdown",
   "metadata": {},
   "source": [
    "### R2 Score\n",
    "\n",
    "Referência: http://scikit-learn.org/stable/modules/generated/sklearn.metrics.r2_score.html#sklearn.metrics.r2_score"
   ]
  },
  {
   "cell_type": "code",
   "execution_count": null,
   "metadata": {},
   "outputs": [],
   "source": [
    "from sklearn.metrics import r2_score\n",
    "r2_score = r2_score(y_test, y_pred)\n",
    "print(r2_score)"
   ]
  },
  {
   "cell_type": "markdown",
   "metadata": {},
   "source": [
    "### Mean Squared Error\n",
    "\n",
    "Referência: http://scikit-learn.org/stable/modules/generated/sklearn.metrics.mean_squared_error.html#sklearn.metrics.mean_squared_error"
   ]
  },
  {
   "cell_type": "code",
   "execution_count": null,
   "metadata": {
    "scrolled": true
   },
   "outputs": [],
   "source": [
    "from sklearn.metrics import mean_squared_error\n",
    "mse = mean_squared_error(y_test, y_pred)\n",
    "print(mse)"
   ]
  },
  {
   "cell_type": "code",
   "execution_count": null,
   "metadata": {},
   "outputs": [],
   "source": []
  }
 ],
 "metadata": {
  "kernelspec": {
   "display_name": "Python 3",
   "language": "python",
   "name": "python3"
  },
  "language_info": {
   "codemirror_mode": {
    "name": "ipython",
    "version": 3
   },
   "file_extension": ".py",
   "mimetype": "text/x-python",
   "name": "python",
   "nbconvert_exporter": "python",
   "pygments_lexer": "ipython3",
   "version": "3.6.5"
  }
 },
 "nbformat": 4,
 "nbformat_minor": 2
}
