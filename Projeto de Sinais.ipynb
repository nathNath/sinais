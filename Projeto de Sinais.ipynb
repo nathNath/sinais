{
 "cells": [
  {
   "cell_type": "markdown",
   "metadata": {},
   "source": [
    "# Projeto de Sinais\n",
    "\n",
    "## Sinais e Sistemas Dinâmicos - Prof. Derzu Omaia\n",
    "\n",
    "## Jansepetrus Brasileiro Pereira e Nathália de Vasconcelos Silva\n",
    "\n",
    "Descrição do projeto: https://www.dropbox.com/s/wzibx7g7136um4z/Projeto.pdf?dl=0"
   ]
  },
  {
   "cell_type": "markdown",
   "metadata": {},
   "source": [
    "### Importar todas as bibliotecas necessárias para o projeto"
   ]
  },
  {
   "cell_type": "code",
   "execution_count": 1,
   "metadata": {},
   "outputs": [],
   "source": [
    "import os\n",
    "import numpy as np\n",
    "import pandas as pd\n",
    "import matplotlib.pyplot as plt\n",
    "from scipy.io import wavfile\n",
    "from scipy.fftpack import fft\n",
    "from scipy.signal import butter, lfilter\n",
    "from sklearn.preprocessing import LabelEncoder, StandardScaler\n",
    "from sklearn.model_selection import train_test_split"
   ]
  },
  {
   "cell_type": "markdown",
   "metadata": {},
   "source": [
    "### Definicao das funções de usuário a serem utilizadas"
   ]
  },
  {
   "cell_type": "markdown",
   "metadata": {},
   "source": [
    "def plot_wav(wav, sample_rate, save_plot=False, nome_plot=\"\", sufixo_nome=\"\"):\n",
    "    if(nome_plot == \"\"):\n",
    "        from datetime import datetime\n",
    "        nome_plot = str(datetime.now()).replace(\":\",\"-\")\n",
    "        \n",
    "    times = np.arange(len(wav))/float(sample_rate)\n",
    "\n",
    "    plt.figure(figsize=(30, 4))\n",
    "\n",
    "    if(wav.ndim == 2):\n",
    "        plt.fill_between(times, wav[:,0], wav[:,1], color='k') # para dual-channel\n",
    "    else:\n",
    "        plt.fill_between(times, wav)\n",
    "\n",
    "    plt.xlim(times[0], times[-1])\n",
    "    plt.xlabel('time (s)')\n",
    "    plt.ylabel('amplitude')\n",
    "    \n",
    "    if(save_plot):\n",
    "        plt.savefig(nome_plot + \"_\" + sufixo_nome + '.png', dpi=210)\n",
    "    plt.show()\n",
    "\n",
    "def plot_wav_freqDomain(fft_wav, freq, N, save_plot=False, nome_plot=\"\", sufixo_nome=\"\"):\n",
    "    if(nome_plot == \"\"):\n",
    "        from datetime import datetime\n",
    "        nome_plot = str(datetime.now()).replace(\":\",\"-\")\n",
    "        \n",
    "    plt.plot(freq, 1.0/N * np.abs(fft_wav))\n",
    "    plt.grid()\n",
    "    if(save_plot):\n",
    "        plt.savefig(nome_plot + \"_\" + sufixo_nome + '.png', dpi=210)\n",
    "    plt.show()"
   ]
  },
  {
   "cell_type": "markdown",
   "metadata": {},
   "source": [
    "### Definição dos Parâmetros de Execução"
   ]
  },
  {
   "cell_type": "markdown",
   "metadata": {},
   "source": [
    "####\n",
    "# Parametros de Execucao\n",
    "####\n",
    "PLOT_SINAL_ORIGINAL = False\n",
    "PLOT_SINAL_FFT = False\n",
    "PLOT_SINAL_FFT_SHIFT = False\n",
    "PLOT_SINAL_FFT_SHIFT_BUTTER = False\n",
    "MONO = True\n",
    "MONO_ESQ = True\n",
    "STEREO = not MONO\n",
    "MONO_DIR = not MONO_ESQ"
   ]
  },
  {
   "cell_type": "markdown",
   "metadata": {},
   "source": [
    "### Percorrer a pasta do dataset IRMAS, abrir todos os arquivos .wav e aplicar a transformada de Fourier"
   ]
  },
  {
   "cell_type": "markdown",
   "metadata": {},
   "source": [
    "ROOT_PATH = 'IRMAS-TrainingData_red' + os.sep\n",
    "for root, dirs, files in os.walk(ROOT_PATH):  \n",
    "    for filename in files:\n",
    "        ####\n",
    "        # Leitura do arquivo WAV\n",
    "        ####\n",
    "        print(root + os.sep + filename)\n"
   ]
  },
  {
   "cell_type": "markdown",
   "metadata": {
    "scrolled": true
   },
   "source": [
    "ROOT_PATH = 'IRMAS-TrainingData_red' + os.sep\n",
    "\n",
    "signal_dataset = []\n",
    "\n",
    "for root, dirs, files in os.walk(ROOT_PATH):  \n",
    "    for filename in files:\n",
    "        ####\n",
    "        # Leitura do arquivo WAV\n",
    "        ####\n",
    "        sample_rate, wav_data = wavfile.read(root + os.sep + filename)\n",
    "\n",
    "        ####\n",
    "        # Captura do sinal em um ndarray\n",
    "        ####\n",
    "        if(wav_data.ndim == 2):\n",
    "            if(STEREO):\n",
    "                x = wav_data\n",
    "        if(MONO_DIR):\n",
    "            x = wav_data[0:,1] # canal da direita\n",
    "        if(MONO_ESQ):\n",
    "            x = wav_data[0:,0] # canal da esquerda\n",
    "        \n",
    "        if (PLOT_SINAL_ORIGINAL):\n",
    "            plot_wav(x, sample_rate, sufixo_nome=\"ORIG\", save_plot=True, nome_plot=filename)\n",
    "\n",
    "        ####\n",
    "        # Especificacoes do dominio do tempo\n",
    "        ####\n",
    "        L = x.size\n",
    "        dt = 1/sample_rate # Periodo de amostragem\n",
    "        t = np.arange(0, (L/sample_rate)-dt, dt) # Discretizacao da amostragem ao passo ((L/sample_rate)-dt)\n",
    "        N = t.size + 1\n",
    "        \n",
    "        ####\n",
    "        # Aplicacao da FFT e Calculo da Frequencia do sinal\n",
    "        ####\n",
    "        fft_output = fft(x) # Fourier.\n",
    "        fft_out_freq = np.fft.fftfreq(N,dt)\n",
    "        \n",
    "        if (PLOT_SINAL_FFT):\n",
    "            plot_wav_freqDomain(fft_output, fft_out_freq, N, sufixo_nome=\"FFT\", save_plot=True, nome_plot=filename)\n",
    "        \n",
    "        freq_max = np.amax(fft_out_freq)\n",
    "        \n",
    "        ####\n",
    "        # Movimentacao dos componentes de frequencia zero para o centro do espectro\n",
    "        ####\n",
    "        fft_out_freq = np.fft.fftshift(fft_out_freq)\n",
    "        fft_shifted = np.fft.fftshift( fft_output ) # Desloca o centro zero da transformada para o centro.\n",
    "        \n",
    "        if (PLOT_SINAL_FFT_SHIFT):\n",
    "            plot_wav_freqDomain(fft_shifted, fft_out_freq, N, sufixo_nome=\"FFT-SHIFT\", save_plot=True, nome_plot=filename)\n",
    "        \n",
    "        ####\n",
    "        # Aplicacao do Filtro Passa-Baixa Butterworth\n",
    "        ####\n",
    "        freq_corte = 5000 # TODO: Precisa descobrir se essa e' uma boa frequencia de corte para utilizar no Passa-Baixa Butterworth\n",
    "        b, a = butter(6, freq_corte/(0.5 * sample_rate), btype='low') # filtro Butterworth passa-baixa de 6a ordem \n",
    "        fft_X_filtro = lfilter(b, a, fft_shifted)\n",
    "        \n",
    "        if(PLOT_SINAL_FFT_SHIFT_BUTTER):\n",
    "            plot_wav_freqDomain(fft_X_filtro, fft_out_freq, N, sufixo_nome=\"FFT-SHIFT-FILT\", save_plot=True, nome_plot=filename)\n",
    "        \n",
    "        ####\n",
    "        # Adicao do sinal filtrado ao DataSet, para ser transformado em um DataFrame.\n",
    "        ####\n",
    "        signal_dataset.append(fft_X_filtro)\n",
    "\n",
    "df_data = pd.DataFrame(signal_dataset)\n",
    "DATAFRAME_NAME = 'WAV_DF.pkl'\n",
    "df_data.to_pickle(DATAFRAME_NAME)"
   ]
  },
  {
   "cell_type": "markdown",
   "metadata": {},
   "source": [
    "### Guardar o DataFrame no PC, para evitar executar o código acima"
   ]
  },
  {
   "cell_type": "markdown",
   "metadata": {},
   "source": [
    "DATAFRAME_NAME = 'WAV_DF.pkl'\n",
    "df_data.to_pickle(DATAFRAME_NAME)"
   ]
  },
  {
   "cell_type": "markdown",
   "metadata": {},
   "source": [
    "### Ler um DataFrame salvo na máquina"
   ]
  },
  {
   "cell_type": "code",
   "execution_count": 2,
   "metadata": {
    "scrolled": true
   },
   "outputs": [],
   "source": [
    "DATAFRAME_NAME = 'WAV_DF.pkl'\n",
    "data_frame = pd.read_pickle(DATAFRAME_NAME)"
   ]
  },
  {
   "cell_type": "markdown",
   "metadata": {},
   "source": [
    "### Especificar o tipo do instrumento das instâncias"
   ]
  },
  {
   "cell_type": "code",
   "execution_count": 3,
   "metadata": {},
   "outputs": [],
   "source": [
    "data_frame = data_frame.assign(instrument = '')\n",
    "\n",
    "data_frame.iloc[0:100, 13228] = 'cel'\n",
    "data_frame.iloc[100:200, 13228] = 'cla'\n",
    "data_frame.iloc[200:300, 13228] = 'flu'\n",
    "data_frame.iloc[300:400, 13228] = 'gac'\n",
    "data_frame.iloc[400:500, 13228] = 'gel'\n",
    "data_frame.iloc[500:600, 13228] = 'org'\n",
    "data_frame.iloc[600:700, 13228] = 'pia'\n",
    "data_frame.iloc[700:800, 13228] = 'sax'\n",
    "data_frame.iloc[800:900, 13228] = 'tru'\n",
    "data_frame.iloc[900:1000, 13228] = 'vio'\n"
   ]
  },
  {
   "cell_type": "markdown",
   "metadata": {},
   "source": [
    "### Usar o LabelEncoder na classe instrumento de cada sinal\n",
    "\n",
    "Referência: http://scikit-learn.org/stable/modules/generated/sklearn.preprocessing.LabelEncoder.html"
   ]
  },
  {
   "cell_type": "code",
   "execution_count": 4,
   "metadata": {},
   "outputs": [],
   "source": [
    "instrument = data_frame.iloc[:, 13228].values\n",
    "instrument = LabelEncoder().fit_transform(instrument)\n",
    "data_frame['instrument'] = instrument"
   ]
  },
  {
   "cell_type": "markdown",
   "metadata": {},
   "source": [
    "### Preparar variáveis para treino e teste do algoritmo de aprendizagem de máquina"
   ]
  },
  {
   "cell_type": "code",
   "execution_count": 5,
   "metadata": {},
   "outputs": [],
   "source": [
    "nX = data_frame.iloc[:, :-1].values\n",
    "ny = data_frame.iloc[:, 13228].values\n",
    "\n",
    "X_train, X_test, y_train, y_test = train_test_split(nX, ny, test_size = 0.1, random_state = 42)"
   ]
  },
  {
   "cell_type": "markdown",
   "metadata": {},
   "source": [
    "### Usar o StandardScaler para alterar a escala dos dados para que o peso deles seja levado em consideração igualmente\n",
    "\n",
    "Referência: http://scikit-learn.org/stable/modules/generated/sklearn.preprocessing.StandardScaler.html"
   ]
  },
  {
   "cell_type": "code",
   "execution_count": 6,
   "metadata": {},
   "outputs": [
    {
     "name": "stderr",
     "output_type": "stream",
     "text": [
      "/home/nath/anaconda3/lib/python3.6/site-packages/sklearn/utils/validation.py:433: ComplexWarning: Casting complex values to real discards the imaginary part\n",
      "  array = np.array(array, dtype=dtype, order=order, copy=copy)\n",
      "/home/nath/anaconda3/lib/python3.6/site-packages/sklearn/utils/validation.py:475: DataConversionWarning: Data with input dtype complex128 was converted to float64 by StandardScaler.\n",
      "  warnings.warn(msg, DataConversionWarning)\n"
     ]
    }
   ],
   "source": [
    "X_train = StandardScaler().fit_transform(X_train)\n",
    "X_test = StandardScaler().fit_transform(X_test)"
   ]
  },
  {
   "cell_type": "markdown",
   "metadata": {},
   "source": [
    "### Executar o algoritmo K-NN para todas as instâncias do dataframe\n",
    "\n",
    "- n_neighbors = 1    | Seguindo a especificação do trabalho para k = 1\n",
    "- metric = minkowski | Métrica padrão da distância euclidiana\n",
    "- p = 2              | Parâmetro da potência para a distância euclidiana\n",
    "\n",
    "Referência: http://scikit-learn.org/stable/modules/generated/sklearn.neighbors.KNeighborsClassifier.html#sklearn-neighbors-kneighborsclassifier"
   ]
  },
  {
   "cell_type": "code",
   "execution_count": 7,
   "metadata": {},
   "outputs": [
    {
     "data": {
      "text/plain": [
       "KNeighborsClassifier(algorithm='auto', leaf_size=30, metric='minkowski',\n",
       "           metric_params=None, n_jobs=1, n_neighbors=1, p=2,\n",
       "           weights='uniform')"
      ]
     },
     "execution_count": 7,
     "metadata": {},
     "output_type": "execute_result"
    }
   ],
   "source": [
    "from sklearn.neighbors import KNeighborsClassifier\n",
    "classifier = KNeighborsClassifier(n_neighbors = 1, metric = 'minkowski', p = 2)\n",
    "classifier.fit(X_train, y_train)"
   ]
  },
  {
   "cell_type": "markdown",
   "metadata": {},
   "source": [
    "### Predizer o resultado da aprendizagem de máquina considerando as variáveis de teste"
   ]
  },
  {
   "cell_type": "code",
   "execution_count": 8,
   "metadata": {},
   "outputs": [],
   "source": [
    "y_pred = classifier.predict(X_test)"
   ]
  },
  {
   "cell_type": "markdown",
   "metadata": {},
   "source": [
    "### Acurácia\n",
    "\n",
    "Referência: http://scikit-learn.org/stable/modules/generated/sklearn.metrics.accuracy_score.html#sklearn.metrics.accuracy_score"
   ]
  },
  {
   "cell_type": "code",
   "execution_count": 11,
   "metadata": {
    "scrolled": true
   },
   "outputs": [
    {
     "name": "stdout",
     "output_type": "stream",
     "text": [
      "0.17\n"
     ]
    }
   ],
   "source": [
    "from sklearn.metrics import accuracy_score\n",
    "acc = accuracy_score(y_test, y_pred)\n",
    "print(acc)"
   ]
  },
  {
   "cell_type": "markdown",
   "metadata": {},
   "source": [
    "### Plot"
   ]
  },
  {
   "cell_type": "code",
   "execution_count": 12,
   "metadata": {
    "scrolled": true
   },
   "outputs": [
    {
     "data": {
      "text/plain": [
       "([<matplotlib.axis.YTick at 0x7ff0780eefd0>,\n",
       "  <matplotlib.axis.YTick at 0x7ff0780ee908>,\n",
       "  <matplotlib.axis.YTick at 0x7ff0780d7860>,\n",
       "  <matplotlib.axis.YTick at 0x7ff0780398d0>,\n",
       "  <matplotlib.axis.YTick at 0x7ff078039dd8>,\n",
       "  <matplotlib.axis.YTick at 0x7ff078042320>,\n",
       "  <matplotlib.axis.YTick at 0x7ff078042828>,\n",
       "  <matplotlib.axis.YTick at 0x7ff078042d30>,\n",
       "  <matplotlib.axis.YTick at 0x7ff07804a278>,\n",
       "  <matplotlib.axis.YTick at 0x7ff078042908>],\n",
       " <a list of 10 Text yticklabel objects>)"
      ]
     },
     "execution_count": 12,
     "metadata": {},
     "output_type": "execute_result"
    },
    {
     "data": {
      "image/png": "[encoded data removed]",
      "text/plain": [
       "<Figure size 432x288 with 1 Axes>"
      ]
     },
     "metadata": {},
     "output_type": "display_data"
    }
   ],
   "source": [
    "plt.scatter(y_test, y_pred, c = 'black')\n",
    "plt.xlabel(\"Valores verdadeiros\")\n",
    "plt.xticks([0,1,2,3,4,5,6,7,8,9])\n",
    "plt.ylabel(\"Valores preditos\")\n",
    "plt.yticks([0,1,2,3,4,5,6,7,8,9])"
   ]
  },
  {
   "cell_type": "markdown",
   "metadata": {},
   "source": [
    "### Matriz de confusão"
   ]
  },
  {
   "cell_type": "code",
   "execution_count": 16,
   "metadata": {},
   "outputs": [
    {
     "name": "stdout",
     "output_type": "stream",
     "text": [
      "[[1 0 0 0 0 0 3 0 0 9]\n",
      " [2 0 1 1 0 0 0 0 0 2]\n",
      " [1 0 1 1 0 0 2 0 0 8]\n",
      " [1 0 1 2 0 0 2 0 0 4]\n",
      " [0 2 1 1 0 0 1 0 0 1]\n",
      " [2 0 1 3 1 0 2 0 0 4]\n",
      " [1 1 0 1 0 0 5 0 0 5]\n",
      " [2 0 0 3 0 0 0 0 0 3]\n",
      " [2 0 3 0 0 0 1 0 0 3]\n",
      " [0 1 0 0 0 0 0 0 0 8]]\n"
     ]
    }
   ],
   "source": [
    "from sklearn.metrics import confusion_matrix\n",
    "cnf = confusion_matrix(y_test, y_pred)\n",
    "print(cnf)"
   ]
  },
  {
   "cell_type": "markdown",
   "metadata": {},
   "source": [
    "### Treinar a rede neural"
   ]
  },
  {
   "cell_type": "code",
   "execution_count": 41,
   "metadata": {
    "scrolled": false
   },
   "outputs": [
    {
     "name": "stdout",
     "output_type": "stream",
     "text": [
      "Epoch 1/10\n",
      "900/900 [==============================] - 1s 2ms/step - loss: 108.7247 - acc: 0.1944\n",
      "Epoch 2/10\n",
      "900/900 [==============================] - 0s 315us/step - loss: 106.7410 - acc: 0.1856\n",
      "Epoch 3/10\n",
      "900/900 [==============================] - 0s 320us/step - loss: 105.2706 - acc: 0.1589\n",
      "Epoch 4/10\n",
      "900/900 [==============================] - 0s 320us/step - loss: 104.7828 - acc: 0.1589\n",
      "Epoch 5/10\n",
      "900/900 [==============================] - 0s 314us/step - loss: 104.5459 - acc: 0.1367\n",
      "Epoch 6/10\n",
      "900/900 [==============================] - 0s 323us/step - loss: 104.4106 - acc: 0.1322\n",
      "Epoch 7/10\n",
      "900/900 [==============================] - 0s 318us/step - loss: 104.3202 - acc: 0.1178\n",
      "Epoch 8/10\n",
      "900/900 [==============================] - 0s 349us/step - loss: 104.2598 - acc: 0.1078\n",
      "Epoch 9/10\n",
      "900/900 [==============================] - 0s 367us/step - loss: 104.2074 - acc: 0.1189\n",
      "Epoch 10/10\n",
      "900/900 [==============================] - 0s 328us/step - loss: 104.1716 - acc: 0.1267\n",
      "Evaluate:\n",
      "100/100 [==============================] - 0s 4ms/step\n"
     ]
    },
    {
     "data": {
      "text/plain": [
       "[101.6218197631836, 0.14]"
      ]
     },
     "execution_count": 41,
     "metadata": {},
     "output_type": "execute_result"
    }
   ],
   "source": [
    "import tensorflow as tf\n",
    "\n",
    "model = tf.keras.models.Sequential([\n",
    "  tf.keras.layers.Flatten(),\n",
    "  tf.keras.layers.Dense(50, activation=tf.nn.relu),\n",
    "  tf.keras.layers.Dropout(0.1),\n",
    "  tf.keras.layers.Dense(15, activation=tf.nn.tanh),\n",
    "  tf.keras.layers.Dropout(0.1),\n",
    "  tf.keras.layers.Dense(10, activation=tf.nn.tanh),\n",
    "  tf.keras.layers.Dropout(0.1),\n",
    "  tf.keras.layers.Dense(10, activation=tf.nn.softmax)\n",
    "])\n",
    "\n",
    "model.compile(optimizer='adam',\n",
    "              loss='categorical_crossentropy',\n",
    "              metrics=['accuracy'])\n",
    "\n",
    "model.fit(X_train, y_train, epochs = 10)\n",
    "\n",
    "print(\"Evaluate:\")\n",
    "model.evaluate(X_test, y_test)"
   ]
  },
  {
   "cell_type": "code",
   "execution_count": null,
   "metadata": {},
   "outputs": [],
   "source": []
  }
 ],
 "metadata": {
  "kernelspec": {
   "display_name": "Python 3",
   "language": "python",
   "name": "python3"
  },
  "language_info": {
   "codemirror_mode": {
    "name": "ipython",
    "version": 3
   },
   "file_extension": ".py",
   "mimetype": "text/x-python",
   "name": "python",
   "nbconvert_exporter": "python",
   "pygments_lexer": "ipython3",
   "version": "3.6.5"
  }
 },
 "nbformat": 4,
 "nbformat_minor": 2
}
