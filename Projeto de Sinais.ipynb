{
 "cells": [
  {
   "cell_type": "markdown",
   "metadata": {},
   "source": [
    "# Projeto de Sinais\n",
    "\n",
    "## Sinais e Sistemas Dinâmicos - Prof. Derzu Omaia\n",
    "\n",
    "## Jansepetrus Brasileiro Pereira e Nathália de Vasconcelos Silva\n",
    "\n",
    "Descrição do projeto: https://www.dropbox.com/s/wzibx7g7136um4z/Projeto.pdf?dl=0"
   ]
  },
  {
   "cell_type": "markdown",
   "metadata": {},
   "source": [
    "## Importar todas as bibliotecas necessárias para o projeto"
   ]
  },
  {
   "cell_type": "code",
   "execution_count": 2,
   "metadata": {},
   "outputs": [],
   "source": [
    "import os\n",
    "import numpy as np\n",
    "import pandas as pd\n",
    "import matplotlib.pyplot as plt\n",
    "from scipy.io import wavfile\n",
    "from scipy.fftpack import fft\n",
    "from scipy.signal import butter, lfilter, freqz\n",
    "from sklearn.preprocessing import LabelEncoder, StandardScaler\n",
    "from sklearn.model_selection import train_test_split\n",
    "from sklearn.neighbors import KNeighborsClassifier\n",
    "from sklearn.metrics import accuracy_score\n",
    "from sklearn.metrics import confusion_matrix\n",
    "from datetime import datetime\n",
    "import warnings\n",
    "warnings.filterwarnings('ignore')"
   ]
  },
  {
   "cell_type": "markdown",
   "metadata": {},
   "source": [
    "## Definição das funções de plot"
   ]
  },
  {
   "cell_type": "code",
   "execution_count": 3,
   "metadata": {},
   "outputs": [],
   "source": [
    "def plot_wav(wav, sample_rate, save_plot=False, nome_plot=\"\", sufixo_nome=\"\"):\n",
    "    if(nome_plot == \"\"):\n",
    "        nome_plot = str(datetime.now()).replace(\":\",\"-\")\n",
    "        \n",
    "    times = np.arange(len(wav))/float(sample_rate)\n",
    "\n",
    "    plt.figure(figsize=(30, 4))\n",
    "\n",
    "    if(wav.ndim == 2):\n",
    "        plt.fill_between(times, wav[:,0], wav[:,1], color='k') # para dual-channel\n",
    "    else:\n",
    "        plt.fill_between(times, wav)\n",
    "\n",
    "    plt.xlim(times[0], times[-1])\n",
    "    plt.xlabel('Tempo (s)')\n",
    "    plt.ylabel('Amplitude')\n",
    "    plt.title(sufixo_nome, loc='left')\n",
    "    plt.title(nome_plot, loc='right')\n",
    "    \n",
    "    if(save_plot):\n",
    "        plt.savefig(nome_plot + \"_\" + sufixo_nome + '.png', dpi=210)\n",
    "    plt.show()\n",
    "\n",
    "def plot_wav_freqDomain(fft_wav, freq, N, save_plot=False, nome_plot=\"\", sufixo_nome=\"\"):\n",
    "    if(nome_plot == \"\"):\n",
    "        nome_plot = str(datetime.now()).replace(\":\",\"-\")\n",
    "        \n",
    "    plt.plot(freq, (1.0/N)*np.abs(fft_wav))\n",
    "    plt.xlabel('Frequência (Hz)')\n",
    "    plt.ylabel('Magnitude do Espectro (Domínio da Frequência)')\n",
    "    plt.title(sufixo_nome, loc='left')\n",
    "    plt.title(nome_plot, loc='right')\n",
    "    plt.grid()\n",
    "    if(save_plot):\n",
    "        plt.savefig(nome_plot + \"_\" + sufixo_nome + '.png', dpi=210)\n",
    "    plt.show()\n",
    "    \n",
    "def simple_plot_wav(wav_data, sample_rate, L, sufixo_nome=\"\", save_plot=False, nome_plot=\"\"):\n",
    "    if(nome_plot == \"\"):\n",
    "        nome_plot = str(datetime.now()).replace(\":\",\"-\")\n",
    "\n",
    "    plt.plot(np.arange(L) / sample_rate, wav_data)\n",
    "    plt.xlim(0,L/sample_rate)\n",
    "    plt.xlabel('Tempo (s)')\n",
    "    plt.ylabel('Amplitude');\n",
    "    plt.title(sufixo_nome, loc='left')\n",
    "    plt.title(nome_plot, loc='right')\n",
    "    \n",
    "    if(save_plot):\n",
    "        plt.savefig(nome_plot + \"_\" + sufixo_nome + '.png', dpi=210)\n",
    "    plt.show()\n",
    "    \n",
    "def plot_resposta_freq(w, h, sample_rate, freq_corte, sufixo_nome=\"\", save_plot=False, nome_plot=\"\"):\n",
    "    if(nome_plot == \"\"):\n",
    "        nome_plot = str(datetime.now()).replace(\":\",\"-\")\n",
    "    \n",
    "    #plt.subplot(2, 1, 1)\n",
    "    plt.plot(0.5*sample_rate*w/np.pi, np.abs(h), 'b')\n",
    "    plt.plot(freq_corte, 0.5*np.sqrt(2), 'ko')\n",
    "    plt.axvline(freq_corte, color='k')\n",
    "    plt.xlim(0, 0.5*sample_rate)\n",
    "    plt.title(\"Resposta em Frequência - Filtro Passa-Baixa\")\n",
    "    plt.xlabel('Frequência (Hz)')\n",
    "    plt.grid()\n",
    "        \n",
    "    if(save_plot):\n",
    "        plt.savefig(nome_plot + \"_\" + sufixo_nome + '.png', dpi=210)\n",
    "    \n",
    "    plt.show()"
   ]
  },
  {
   "cell_type": "markdown",
   "metadata": {},
   "source": [
    "## Definição dos parâmetros de execução"
   ]
  },
  {
   "cell_type": "code",
   "execution_count": 4,
   "metadata": {},
   "outputs": [],
   "source": [
    "N_DF = '003_' # Número referente à geração executada\n",
    "NOME_DF = 'WAV_DF_INST' # Nome do DataFrame\n",
    "EXTENSAO_DF = '.pkl' # Extensão do arquivo do DataFrame - default: .pkl\n",
    "\n",
    "INSTANCIAS = 100 # Quantidade de Instâncias por instrumento\n",
    "FILTRAR = False # Se vai utilizar filtro ou não\n",
    "PORC_CROP = 0.2 # Porcentagem do Crop do sinal final\n",
    "if(FILTRAR):\n",
    "    FILTRO = 'FILT'\n",
    "else:\n",
    "    FILTRO = 'nFILT'\n",
    "\n",
    "PARAMETROS_DE_GERACAO = str(INSTANCIAS) + '_' + str(int(PORC_CROP * 100)) + 'pc_'+ FILTRO\n",
    "DATAFRAME_NAME = N_DF + NOME_DF + PARAMETROS_DE_GERACAO + EXTENSAO_DF\n",
    "\n",
    "#ROOT_PATH = 'IRMAS-TrainingData_red' + os.sep\n",
    "#ROOT_PATH = 'INST_' + str(INSTANCIAS) + os.sep\n",
    "ROOT_PATH = 'DB_REL' + os.sep\n",
    "\n",
    "PLOT_SINAL_ORIGINAL = True\n",
    "PLOT_SINAL_FFT = True\n",
    "PLOT_SINAL_FFT_SHIFT = True\n",
    "PLOT_SINAL_FFT_SHIFT_RESPFREQ = True\n",
    "PLOT_SINAL_FFT_SHIFT_BUTTER = True\n",
    "PLOT_SINAL_FFT_SHIFT_BUTTER_COMPARATIVO = False\n",
    "PLOT_SINAL_FFT_SHIFT_BUTTER_CORTE = True"
   ]
  },
  {
   "cell_type": "markdown",
   "metadata": {},
   "source": [
    "## Tratamento do sinal"
   ]
  },
  {
   "cell_type": "markdown",
   "metadata": {},
   "source": [
    "- Percorrer a pasta do dataset IRMAS\n",
    "- Abrir todos os arquivos .wav\n",
    "- Aplicar a transformada de Fourier \n",
    "- Transformada de Fourier deslocada \n",
    "- Filtro passa-baixa Butterworth (*)\n",
    "- Realizar um _crop_ \n",
    "- Salvar o sinal em um dataframe\n",
    "\n",
    "Referência 1: https://www.oreilly.com/library/view/elegant-scipy/9781491922927/ch04.html\n",
    "\n",
    "Referência 2: Notas de Aula da Disciplina"
   ]
  },
  {
   "cell_type": "code",
   "execution_count": 6,
   "metadata": {
    "scrolled": false
   },
   "outputs": [
    {
     "name": "stdout",
     "output_type": "stream",
     "text": [
      "2018-11-04 17:22:43.785325 - [tru][cla]1870__2.wav - Iniciando...\n"
     ]
    },
    {
     "data": {
      "image/png": "[encoded data removed]",
      "text/plain": [
       "<Figure size 432x288 with 1 Axes>"
      ]
     },
     "metadata": {
      "needs_background": "light"
     },
     "output_type": "display_data"
    },
    {
     "name": "stdout",
     "output_type": "stream",
     "text": [
      "2018-11-04 17:22:44.744175 - [tru][cla]1870__2.wav - Aplicando FFT...\n"
     ]
    },
    {
     "data": {
      "image/png": "[encoded data removed]",
      "text/plain": [
       "<Figure size 432x288 with 1 Axes>"
      ]
     },
     "metadata": {
      "needs_background": "light"
     },
     "output_type": "display_data"
    },
    {
     "name": "stdout",
     "output_type": "stream",
     "text": [
      "2018-11-04 17:23:00.495730 - [tru][cla]1870__2.wav - Movimentando os componentes de frequencia zero para o centro do espectro...\n"
     ]
    },
    {
     "data": {
      "image/png": "[encoded data removed]",
      "text/plain": [
       "<Figure size 432x288 with 1 Axes>"
      ]
     },
     "metadata": {
      "needs_background": "light"
     },
     "output_type": "display_data"
    },
    {
     "name": "stdout",
     "output_type": "stream",
     "text": [
      "2018-11-04 17:23:00.937682 - [tru][cla]1870__2.wav - Reduzindo o tamanho do dataset, para colocar no DataFrame...\n"
     ]
    },
    {
     "data": {
      "image/png": "[encoded data removed]",
      "text/plain": [
       "<Figure size 432x288 with 1 Axes>"
      ]
     },
     "metadata": {
      "needs_background": "light"
     },
     "output_type": "display_data"
    },
    {
     "name": "stdout",
     "output_type": "stream",
     "text": [
      "2018-11-04 17:23:01.269611 - [tru][cla]1870__2.wav - Adicionando ao dataset...\n",
      "\n",
      "\n",
      "2018-11-04 17:23:01.269611 - Convertendo o dataset em DataFrame. \n",
      "\n",
      "2018-11-04 17:23:01.704543 - Finalizando o DataFrame: 003_WAV_DF_INST100_20pc_nFILT.pkl\n"
     ]
    }
   ],
   "source": [
    "signal_dataset = []\n",
    "\n",
    "for root, dirs, files in os.walk(ROOT_PATH):  \n",
    "    for filename in files:\n",
    "\n",
    "        print(str(datetime.now()) + ' - ' + str(filename) + ' - Iniciando...')\n",
    "        \n",
    "        ####\n",
    "        # Leitura do arquivo WAV\n",
    "        ####\n",
    "        \n",
    "        sample_rate, wav_data = wavfile.read(root + os.sep + filename)\n",
    "        \n",
    "        ####\n",
    "        # Captura do sinal em um ndarray\n",
    "        ####\n",
    "\n",
    "        wav_data = np.mean(wav_data, axis=1) #Conversao de sinal stereo para mono, fazendo a media dos canais esquerdo e direito\n",
    "        \n",
    "        ####\n",
    "        # Especificacoes do dominio do tempo\n",
    "        ####\n",
    "        \n",
    "        L = wav_data.shape[0]\n",
    "        dt = 1.0 / sample_rate\n",
    "        t = np.arange(0, (L/sample_rate)-dt, dt).T # Discretizacao da amostragem ao passo ((L/sample_rate)-dt)\n",
    "        #t = np.linspace(0, dt, L)\n",
    "        N = t.size + 1\n",
    "        if (PLOT_SINAL_ORIGINAL):\n",
    "            #plot_wav(wav_data, sample_rate, sufixo_nome=\"ORIG\", save_plot=True, nome_plot=filename)\n",
    "            simple_plot_wav(wav_data, sample_rate, L, sufixo_nome=\"_01_ORIG\", save_plot=True, nome_plot=filename)\n",
    "        \n",
    "        ####\n",
    "        # Especificacoes do dominio da frequencia\n",
    "        ####\n",
    "        \n",
    "        dF = sample_rate/N # hertz\n",
    "        freq = np.arange(-sample_rate/2, sample_rate/2-dF, dF)\n",
    "        freq_max = np.amax(freq)\n",
    "        \n",
    "        ####\n",
    "        # Aplicacao da FFT\n",
    "        ####\n",
    "        \n",
    "        print(str(datetime.now()) + ' - ' + str(filename) + ' - Aplicando FFT...')\n",
    "        fft_output = fft(wav_data) # Fourier.\n",
    "        if (PLOT_SINAL_FFT):\n",
    "            plot_wav_freqDomain(fft_output, freq, N, sufixo_nome=\"_02_FFT\", save_plot=True, nome_plot=filename)\n",
    "\n",
    "        ####\n",
    "        # Movimentacao dos componentes de frequencia zero para o centro do espectro\n",
    "        ####\n",
    "        \n",
    "        print(str(datetime.now()) + ' - ' + str(filename) + ' - Movimentando os componentes de frequencia zero para o centro do espectro...')\n",
    "        fft_shifted = np.fft.fftshift( fft_output ) # Desloca o centro zero da transformada para o centro.\n",
    "        #freq_shifted = np.fft.fftshift(freq)\n",
    "        \n",
    "        if (PLOT_SINAL_FFT_SHIFT):\n",
    "            plot_wav_freqDomain(fft_shifted, freq, N, sufixo_nome=\"_03_FFT-SHIFT\", save_plot=True, nome_plot=filename)\n",
    "\n",
    "        ####\n",
    "        # Aplicacao do Filtro Passa-Baixa Butterworth\n",
    "        ####\n",
    "        \n",
    "        if(FILTRAR):\n",
    "            \n",
    "            print(str(datetime.now()) + ' - ' + str(filename) + ' - Aplicando Filtro Passa-Baixa Butterworth...')\n",
    "            \n",
    "            ####\n",
    "            # Parâmetros do Butterworth\n",
    "            ####\n",
    "            \n",
    "            butter_order = 6\n",
    "            freq_corte = freq_max * 0.3 # TODO: Precisa descobrir se essa e' uma boa frequencia de corte para utilizar no Passa-Baixa Butterworth\n",
    "            butter_cutoff = freq_corte / (0.5 * sample_rate)\n",
    "\n",
    "            b, a = butter(butter_order, butter_cutoff, btype='low', analog=False)\n",
    "            w, h = freqz(b, a, worN=8000)\n",
    "\n",
    "            ####\n",
    "            # Resposta em frequência do sinal\n",
    "            ####\n",
    "            \n",
    "            if(PLOT_SINAL_FFT_SHIFT_RESPFREQ):\n",
    "                print(str(datetime.now()) + ' - ' + str(filename) + ' - Verificando a resposta em frequência do sinal...')\n",
    "                plot_resposta_freq(w, h, sample_rate, freq_corte, sufixo_nome=\"_04_FFT-SHIFT-RESPFREQ\", save_plot=True, nome_plot=filename)\n",
    "\n",
    "            ####\n",
    "            # Aplicação do filtro passa-baixa\n",
    "            ####\n",
    "            \n",
    "            print(str(datetime.now()) + ' - ' + str(filename) + ' - Aplicando o filtro passa-baixa...')\n",
    "            fft_X_filtro = lfilter(b, a, fft_shifted)\n",
    "\n",
    "            if(PLOT_SINAL_FFT_SHIFT_BUTTER):\n",
    "                plot_wav_freqDomain(fft_X_filtro, freq, N, sufixo_nome=\"_05_FFT-SHIFT-FILT\", save_plot=True, nome_plot=filename)\n",
    "\n",
    "            if(PLOT_SINAL_FFT_SHIFT_BUTTER_COMPARATIVO):\n",
    "                plt.plot(freq, fft_shifted.real, 'b-', label='data')\n",
    "                plt.plot(freq, fft_X_filtro.real, 'g-', linewidth=2, label='filtered data')\n",
    "                plt.title(\"_06_FFT-SHIFT-BUTTER-COMPARATIVO\", loc='left')\n",
    "                plt.title(filename, loc='right')\n",
    "                plt.xlabel('Time [sec]')\n",
    "                plt.grid()\n",
    "                plt.legend()\n",
    "                plt.savefig(filename + \"_\" + \"_06_FFT-SHIFT-BUTTER-COMPARATIVO\" + '.png', dpi=210)\n",
    "                plt.show()\n",
    "        else:\n",
    "            fft_X_filtro = fft_shifted\n",
    "        \n",
    "        ####\n",
    "        # \"Crop\" do sinal, a fim de reduzir o tamanho das amostras para o DataFrame\n",
    "        ####\n",
    "        \n",
    "        print(str(datetime.now()) + ' - ' + str(filename) + ' - Reduzindo o tamanho do dataset, para colocar no DataFrame...')\n",
    "        \n",
    "        centro_espectro = (fft_X_filtro.shape[0]) // 2 # Cálculo do centro do espectro\n",
    "        offset = int((fft_X_filtro.shape[0]) * 0.05) # 5% de offset a partir do centro do espectro\n",
    "        \n",
    "        fft_filtro_corte = fft_X_filtro[centro_espectro-offset:centro_espectro+offset,]\n",
    "        freq_dataframe = freq[centro_espectro-offset:centro_espectro+offset,]\n",
    "\n",
    "        if(PLOT_SINAL_FFT_SHIFT_BUTTER_CORTE):\n",
    "            plot_wav_freqDomain(fft_filtro_corte, freq_dataframe, N, sufixo_nome=\"_07_FFT-CORTE\", save_plot=True, nome_plot=filename)\n",
    "         \n",
    "        ####\n",
    "        # Adicao do sinal filtrado ao DataSet, para ser transformado em um DataFrame.\n",
    "        ####\n",
    "        \n",
    "        print(str(datetime.now()) + ' - ' + str(filename) + ' - Adicionando ao dataset...\\n')\n",
    "        \n",
    "        signal_dataset.append(fft_filtro_corte)\n",
    "\n",
    "####\n",
    "# Criacao do DataFrame\n",
    "####\n",
    "        \n",
    "print('\\n' + str(datetime.now()) + ' - Convertendo o dataset em DataFrame. ')\n",
    "\n",
    "df_data = pd.DataFrame(signal_dataset)\n",
    "df_data.to_pickle(DATAFRAME_NAME)\n",
    "\n",
    "print('\\n' + str(datetime.now()) + ' - Finalizando o DataFrame: ' + DATAFRAME_NAME)"
   ]
  },
  {
   "cell_type": "markdown",
   "metadata": {},
   "source": [
    "## Ler um DataFrame salvo na máquina"
   ]
  },
  {
   "cell_type": "code",
   "execution_count": 2,
   "metadata": {
    "scrolled": true
   },
   "outputs": [],
   "source": [
    "data_frame = pd.read_pickle(DATAFRAME_NAME)"
   ]
  },
  {
   "cell_type": "markdown",
   "metadata": {},
   "source": [
    "## Especificar o tipo do instrumento das instâncias"
   ]
  },
  {
   "cell_type": "markdown",
   "metadata": {},
   "source": [
    "### Para 1 instância de cada instrumento"
   ]
  },
  {
   "cell_type": "markdown",
   "metadata": {},
   "source": [
    "data_frame = data_frame.assign(instrument = '')\n",
    "\n",
    "data_frame.iloc[0:1, 52918] = 'cel'\n",
    "data_frame.iloc[1:2, 52918] = 'cla'\n",
    "data_frame.iloc[2:3, 52918] = 'flu'\n",
    "data_frame.iloc[3:4, 52918] = 'gac'\n",
    "data_frame.iloc[4:5, 52918] = 'gel'\n",
    "data_frame.iloc[5:6, 52918] = 'org'\n",
    "data_frame.iloc[6:7, 52918] = 'pia'\n",
    "data_frame.iloc[7:8, 52918] = 'sax'\n",
    "data_frame.iloc[8:9, 52918] = 'tru'\n",
    "data_frame.iloc[9:10, 52918] = 'vio'"
   ]
  },
  {
   "cell_type": "markdown",
   "metadata": {},
   "source": [
    "### Para 5 instâncias de cada instrumento"
   ]
  },
  {
   "cell_type": "markdown",
   "metadata": {},
   "source": [
    "data_frame = data_frame.assign(instrument = '')\n",
    "\n",
    "data_frame.iloc[0:5, 13228] = 'cel'\n",
    "data_frame.iloc[5:10, 13228] = 'cla'\n",
    "data_frame.iloc[10:15, 13228] = 'flu'\n",
    "data_frame.iloc[15:20, 13228] = 'gac'\n",
    "data_frame.iloc[20:25, 13228] = 'gel'\n",
    "data_frame.iloc[25:30, 13228] = 'org'\n",
    "data_frame.iloc[30:35, 13228] = 'pia'\n",
    "data_frame.iloc[35:40, 13228] = 'sax'\n",
    "data_frame.iloc[40:45, 13228] = 'tru'\n",
    "data_frame.iloc[45:50, 13228] = 'vio'"
   ]
  },
  {
   "cell_type": "markdown",
   "metadata": {},
   "source": [
    "### Para 20 instâncias de cada instrumento"
   ]
  },
  {
   "cell_type": "markdown",
   "metadata": {},
   "source": [
    "data_frame = data_frame.assign(instrument = '')\n",
    "\n",
    "data_frame.iloc[0:20, 52918] = 'cel'\n",
    "data_frame.iloc[20:40, 52918] = 'cla'\n",
    "data_frame.iloc[40:60, 52918] = 'flu'\n",
    "data_frame.iloc[60:80, 52918] = 'gac'\n",
    "data_frame.iloc[80:100, 52918] = 'gel'\n",
    "data_frame.iloc[100:120, 52918] = 'org'\n",
    "data_frame.iloc[120:140, 52918] = 'pia'\n",
    "data_frame.iloc[140:160, 52918] = 'sax'\n",
    "data_frame.iloc[160:180, 52918] = 'tru'\n",
    "data_frame.iloc[180:200, 52918] = 'vio'"
   ]
  },
  {
   "cell_type": "markdown",
   "metadata": {},
   "source": [
    "### Para 100 instâncias de cada instrumento"
   ]
  },
  {
   "cell_type": "code",
   "execution_count": 3,
   "metadata": {},
   "outputs": [],
   "source": [
    "data_frame = data_frame.assign(instrument = '')\n",
    "\n",
    "data_frame.iloc[0:100, 52918] = 'cel'\n",
    "data_frame.iloc[100:200, 52918] = 'cla'\n",
    "data_frame.iloc[200:300, 52918] = 'flu'\n",
    "data_frame.iloc[300:400, 52918] = 'gac'\n",
    "data_frame.iloc[400:500, 52918] = 'gel'\n",
    "data_frame.iloc[500:600, 52918] = 'org'\n",
    "data_frame.iloc[600:700, 52918] = 'pia'\n",
    "data_frame.iloc[700:800, 52918] = 'sax'\n",
    "data_frame.iloc[800:900, 52918] = 'tru'\n",
    "data_frame.iloc[900:1000, 52918] = 'vio'"
   ]
  },
  {
   "cell_type": "markdown",
   "metadata": {},
   "source": [
    "## Usar o LabelEncoder na classe instrumento de todas as instâncias\n",
    "\n",
    "Referência: http://scikit-learn.org/stable/modules/generated/sklearn.preprocessing.LabelEncoder.html"
   ]
  },
  {
   "cell_type": "code",
   "execution_count": 4,
   "metadata": {},
   "outputs": [],
   "source": [
    "instrument = data_frame.iloc[:, 52918].values\n",
    "instrument = LabelEncoder().fit_transform(instrument)\n",
    "data_frame['instrument'] = instrument"
   ]
  },
  {
   "cell_type": "markdown",
   "metadata": {},
   "source": [
    "## Preparar variáveis para treino e teste geral"
   ]
  },
  {
   "cell_type": "code",
   "execution_count": 5,
   "metadata": {},
   "outputs": [],
   "source": [
    "nX = data_frame.iloc[:, :-1].values\n",
    "ny = data_frame.iloc[:, 52918].values\n",
    "\n",
    "X_train, X_test, y_train, y_test = train_test_split(nX, ny, test_size = 0.1, random_state = 13)"
   ]
  },
  {
   "cell_type": "markdown",
   "metadata": {},
   "source": [
    "## Usar o StandardScaler para alterar a escala dos dados para que o peso deles seja levado em consideração igualmente\n",
    "\n",
    "Referência: http://scikit-learn.org/stable/modules/generated/sklearn.preprocessing.StandardScaler.html"
   ]
  },
  {
   "cell_type": "code",
   "execution_count": 6,
   "metadata": {},
   "outputs": [],
   "source": [
    "X_train = StandardScaler().fit_transform(X_train)\n",
    "X_test = StandardScaler().fit_transform(X_test)"
   ]
  },
  {
   "cell_type": "markdown",
   "metadata": {},
   "source": [
    "## Executar o algoritmo K-NN para todas as instâncias do dataframe\n",
    "\n",
    "- n_neighbors = 1    | Seguindo a especificação do trabalho para k = 1\n",
    "- metric = minkowski | Métrica padrão da distância euclidiana\n",
    "- p = 2              | Parâmetro da potência para a distância euclidiana\n",
    "\n",
    "Referência: http://scikit-learn.org/stable/modules/generated/sklearn.neighbors.KNeighborsClassifier.html#sklearn-neighbors-kneighborsclassifier"
   ]
  },
  {
   "cell_type": "code",
   "execution_count": 7,
   "metadata": {},
   "outputs": [
    {
     "data": {
      "text/plain": [
       "KNeighborsClassifier(algorithm='auto', leaf_size=30, metric='minkowski',\n",
       "           metric_params=None, n_jobs=1, n_neighbors=1, p=2,\n",
       "           weights='uniform')"
      ]
     },
     "execution_count": 7,
     "metadata": {},
     "output_type": "execute_result"
    }
   ],
   "source": [
    "classifier = KNeighborsClassifier(n_neighbors = 1, metric = 'minkowski', p = 2)\n",
    "classifier.fit(X_train, y_train)"
   ]
  },
  {
   "cell_type": "markdown",
   "metadata": {},
   "source": [
    "## Predizer o resultado da aprendizagem de máquina geral"
   ]
  },
  {
   "cell_type": "code",
   "execution_count": 8,
   "metadata": {},
   "outputs": [],
   "source": [
    "y_pred = classifier.predict(X_test)"
   ]
  },
  {
   "cell_type": "markdown",
   "metadata": {},
   "source": [
    "## Acurácia geral\n",
    "\n",
    "Referência: http://scikit-learn.org/stable/modules/generated/sklearn.metrics.accuracy_score.html#sklearn.metrics.accuracy_score"
   ]
  },
  {
   "cell_type": "code",
   "execution_count": 9,
   "metadata": {
    "scrolled": true
   },
   "outputs": [
    {
     "name": "stdout",
     "output_type": "stream",
     "text": [
      "0.11\n"
     ]
    }
   ],
   "source": [
    "acc = accuracy_score(y_test, y_pred)\n",
    "print(acc)"
   ]
  },
  {
   "cell_type": "markdown",
   "metadata": {},
   "source": [
    "## Plot"
   ]
  },
  {
   "cell_type": "code",
   "execution_count": 10,
   "metadata": {
    "scrolled": true
   },
   "outputs": [
    {
     "data": {
      "text/plain": [
       "([<matplotlib.axis.YTick at 0x7f5029f4b940>,\n",
       "  <matplotlib.axis.YTick at 0x7f5029f4b278>,\n",
       "  <matplotlib.axis.YTick at 0x7f509506a860>,\n",
       "  <matplotlib.axis.YTick at 0x7f5029f12780>,\n",
       "  <matplotlib.axis.YTick at 0x7f5029f12c88>,\n",
       "  <matplotlib.axis.YTick at 0x7f5029f12748>,\n",
       "  <matplotlib.axis.YTick at 0x7f5029f0b8d0>,\n",
       "  <matplotlib.axis.YTick at 0x7f5029f0b2b0>,\n",
       "  <matplotlib.axis.YTick at 0x7f5029f1c668>,\n",
       "  <matplotlib.axis.YTick at 0x7f5029f1cb70>],\n",
       " <a list of 10 Text yticklabel objects>)"
      ]
     },
     "execution_count": 10,
     "metadata": {},
     "output_type": "execute_result"
    },
    {
     "data": {
      "image/png": "[encoded data removed]",
      "text/plain": [
       "<Figure size 432x288 with 1 Axes>"
      ]
     },
     "metadata": {},
     "output_type": "display_data"
    }
   ],
   "source": [
    "plt.scatter(y_test, y_pred, c = 'black')\n",
    "plt.xlabel(\"Valores verdadeiros\")\n",
    "plt.xticks([0,1,2,3,4,5,6,7,8,9])\n",
    "plt.ylabel(\"Valores preditos\")\n",
    "plt.yticks([0,1,2,3,4,5,6,7,8,9])"
   ]
  },
  {
   "cell_type": "markdown",
   "metadata": {},
   "source": [
    "## Matriz de confusão"
   ]
  },
  {
   "cell_type": "code",
   "execution_count": 11,
   "metadata": {},
   "outputs": [
    {
     "name": "stdout",
     "output_type": "stream",
     "text": [
      "[[2 0 0 0 0 0 6 0 0 0]\n",
      " [1 0 0 0 0 0 5 0 0 1]\n",
      " [0 0 0 0 0 0 6 0 0 0]\n",
      " [0 0 1 0 0 0 9 0 0 0]\n",
      " [4 1 1 0 0 0 7 0 0 0]\n",
      " [4 1 0 1 0 0 5 0 0 1]\n",
      " [3 0 0 0 0 0 9 0 0 0]\n",
      " [5 0 0 0 0 0 8 0 0 0]\n",
      " [0 0 0 0 0 0 9 0 0 0]\n",
      " [2 0 0 0 0 0 8 0 0 0]]\n"
     ]
    }
   ],
   "source": [
    "cnf = confusion_matrix(y_test, y_pred)\n",
    "print(cnf)"
   ]
  },
  {
   "cell_type": "markdown",
   "metadata": {},
   "source": [
    "## Preparar variáveis para treino e teste do algoritmo de aprendizagem de máquina apenas para o violoncelo"
   ]
  },
  {
   "cell_type": "code",
   "execution_count": 12,
   "metadata": {},
   "outputs": [],
   "source": [
    "cel_x = data_frame.iloc[0:100, :-1].values\n",
    "cel_y = data_frame.iloc[0:100, 52918].values\n",
    "\n",
    "X_train, X_test, y_train, y_test = train_test_split(cel_x, cel_y, test_size = 0.1, random_state = 13)"
   ]
  },
  {
   "cell_type": "markdown",
   "metadata": {},
   "source": [
    "## Usar o StandardScaler para alterar a escala dos dados para que o peso deles seja levado em consideração igualmente\n",
    "\n",
    "Referência: http://scikit-learn.org/stable/modules/generated/sklearn.preprocessing.StandardScaler.html"
   ]
  },
  {
   "cell_type": "code",
   "execution_count": 13,
   "metadata": {
    "scrolled": false
   },
   "outputs": [],
   "source": [
    "X_train = StandardScaler().fit_transform(X_train)\n",
    "X_test = StandardScaler().fit_transform(X_test)"
   ]
  },
  {
   "cell_type": "markdown",
   "metadata": {},
   "source": [
    "## Executar o algoritmo K-NN para as instâncias do \"cello\" no dataframe\n",
    "\n",
    "- n_neighbors = 1    | Seguindo a especificação do trabalho para k = 1\n",
    "- metric = minkowski | Métrica padrão da distância euclidiana\n",
    "- p = 2              | Parâmetro da potência para a distância euclidiana\n",
    "\n",
    "Referência: http://scikit-learn.org/stable/modules/generated/sklearn.neighbors.KNeighborsClassifier.html#sklearn-neighbors-kneighborsclassifier"
   ]
  },
  {
   "cell_type": "code",
   "execution_count": 14,
   "metadata": {},
   "outputs": [
    {
     "data": {
      "text/plain": [
       "KNeighborsClassifier(algorithm='auto', leaf_size=30, metric='minkowski',\n",
       "           metric_params=None, n_jobs=1, n_neighbors=1, p=2,\n",
       "           weights='uniform')"
      ]
     },
     "execution_count": 14,
     "metadata": {},
     "output_type": "execute_result"
    }
   ],
   "source": [
    "classifier = KNeighborsClassifier(n_neighbors = 1, metric = 'minkowski', p = 2)\n",
    "classifier.fit(X_train, y_train)"
   ]
  },
  {
   "cell_type": "markdown",
   "metadata": {},
   "source": [
    "## Predizer o resultado da aprendizagem de máquina para classificar o \"cello\""
   ]
  },
  {
   "cell_type": "code",
   "execution_count": 15,
   "metadata": {},
   "outputs": [],
   "source": [
    "y_pred = classifier.predict(X_test)"
   ]
  },
  {
   "cell_type": "markdown",
   "metadata": {},
   "source": [
    "## Acurácia do \"cello\"\n",
    "\n",
    "Referência: http://scikit-learn.org/stable/modules/generated/sklearn.metrics.accuracy_score.html#sklearn.metrics.accuracy_score"
   ]
  },
  {
   "cell_type": "code",
   "execution_count": 16,
   "metadata": {
    "scrolled": true
   },
   "outputs": [
    {
     "name": "stdout",
     "output_type": "stream",
     "text": [
      "1.0\n"
     ]
    }
   ],
   "source": [
    "acc = accuracy_score(y_test, y_pred)\n",
    "print(acc)"
   ]
  },
  {
   "cell_type": "markdown",
   "metadata": {},
   "source": [
    "## Preparar variáveis para treino e teste do algoritmo de aprendizagem de máquina apenas para o clarinete"
   ]
  },
  {
   "cell_type": "code",
   "execution_count": 17,
   "metadata": {},
   "outputs": [],
   "source": [
    "cla_x = data_frame.iloc[100:200, :-1].values\n",
    "cla_y = data_frame.iloc[100:200, 52918].values\n",
    "\n",
    "X_train, X_test, y_train, y_test = train_test_split(cla_x, cla_y, test_size = 0.1, random_state = 13)"
   ]
  },
  {
   "cell_type": "markdown",
   "metadata": {},
   "source": [
    "## Usar o StandardScaler para alterar a escala dos dados para que o peso deles seja levado em consideração igualmente\n",
    "\n",
    "Referência: http://scikit-learn.org/stable/modules/generated/sklearn.preprocessing.StandardScaler.html"
   ]
  },
  {
   "cell_type": "code",
   "execution_count": 18,
   "metadata": {
    "scrolled": true
   },
   "outputs": [],
   "source": [
    "X_train = StandardScaler().fit_transform(X_train)\n",
    "X_test = StandardScaler().fit_transform(X_test)"
   ]
  },
  {
   "cell_type": "markdown",
   "metadata": {},
   "source": [
    "## Executar o algoritmo K-NN para as instâncias do \"cla\" no dataframe\n",
    "\n",
    "- n_neighbors = 1    | Seguindo a especificação do trabalho para k = 1\n",
    "- metric = minkowski | Métrica padrão da distância euclidiana\n",
    "- p = 2              | Parâmetro da potência para a distância euclidiana\n",
    "\n",
    "Referência: http://scikit-learn.org/stable/modules/generated/sklearn.neighbors.KNeighborsClassifier.html#sklearn-neighbors-kneighborsclassifier"
   ]
  },
  {
   "cell_type": "code",
   "execution_count": 19,
   "metadata": {},
   "outputs": [
    {
     "data": {
      "text/plain": [
       "KNeighborsClassifier(algorithm='auto', leaf_size=30, metric='minkowski',\n",
       "           metric_params=None, n_jobs=1, n_neighbors=1, p=2,\n",
       "           weights='uniform')"
      ]
     },
     "execution_count": 19,
     "metadata": {},
     "output_type": "execute_result"
    }
   ],
   "source": [
    "classifier = KNeighborsClassifier(n_neighbors = 1, metric = 'minkowski', p = 2)\n",
    "classifier.fit(X_train, y_train)"
   ]
  },
  {
   "cell_type": "markdown",
   "metadata": {},
   "source": [
    "## Predizer o resultado da aprendizagem de máquina para classificar o \"cla\""
   ]
  },
  {
   "cell_type": "code",
   "execution_count": 20,
   "metadata": {},
   "outputs": [],
   "source": [
    "y_pred = classifier.predict(X_test)"
   ]
  },
  {
   "cell_type": "markdown",
   "metadata": {},
   "source": [
    "## Acurácia do \"cla\"\n",
    "\n",
    "Referência: http://scikit-learn.org/stable/modules/generated/sklearn.metrics.accuracy_score.html#sklearn.metrics.accuracy_score"
   ]
  },
  {
   "cell_type": "code",
   "execution_count": 21,
   "metadata": {
    "scrolled": true
   },
   "outputs": [
    {
     "name": "stdout",
     "output_type": "stream",
     "text": [
      "1.0\n"
     ]
    }
   ],
   "source": [
    "acc = accuracy_score(y_test, y_pred)\n",
    "print(acc)"
   ]
  },
  {
   "cell_type": "markdown",
   "metadata": {},
   "source": [
    "## Preparar variáveis para treino e teste do algoritmo de aprendizagem de máquina apenas para a flauta"
   ]
  },
  {
   "cell_type": "code",
   "execution_count": 22,
   "metadata": {},
   "outputs": [],
   "source": [
    "flu_x = data_frame.iloc[200:300, :-1].values\n",
    "flu_y = data_frame.iloc[200:300, 52918].values\n",
    "\n",
    "X_train, X_test, y_train, y_test = train_test_split(flu_x, flu_y, test_size = 0.1, random_state = 13)"
   ]
  },
  {
   "cell_type": "markdown",
   "metadata": {},
   "source": [
    "## Usar o StandardScaler para alterar a escala dos dados para que o peso deles seja levado em consideração igualmente\n",
    "\n",
    "Referência: http://scikit-learn.org/stable/modules/generated/sklearn.preprocessing.StandardScaler.html"
   ]
  },
  {
   "cell_type": "code",
   "execution_count": 23,
   "metadata": {
    "scrolled": false
   },
   "outputs": [],
   "source": [
    "X_train = StandardScaler().fit_transform(X_train)\n",
    "X_test = StandardScaler().fit_transform(X_test)"
   ]
  },
  {
   "cell_type": "markdown",
   "metadata": {},
   "source": [
    "## Executar o algoritmo K-NN para as instâncias do \"flu\" no dataframe\n",
    "\n",
    "- n_neighbors = 1    | Seguindo a especificação do trabalho para k = 1\n",
    "- metric = minkowski | Métrica padrão da distância euclidiana\n",
    "- p = 2              | Parâmetro da potência para a distância euclidiana\n",
    "\n",
    "Referência: http://scikit-learn.org/stable/modules/generated/sklearn.neighbors.KNeighborsClassifier.html#sklearn-neighbors-kneighborsclassifier"
   ]
  },
  {
   "cell_type": "code",
   "execution_count": 24,
   "metadata": {},
   "outputs": [
    {
     "data": {
      "text/plain": [
       "KNeighborsClassifier(algorithm='auto', leaf_size=30, metric='minkowski',\n",
       "           metric_params=None, n_jobs=1, n_neighbors=1, p=2,\n",
       "           weights='uniform')"
      ]
     },
     "execution_count": 24,
     "metadata": {},
     "output_type": "execute_result"
    }
   ],
   "source": [
    "classifier = KNeighborsClassifier(n_neighbors = 1, metric = 'minkowski', p = 2)\n",
    "classifier.fit(X_train, y_train)"
   ]
  },
  {
   "cell_type": "markdown",
   "metadata": {},
   "source": [
    "## Predizer o resultado da aprendizagem de máquina para classificar o \"flu\""
   ]
  },
  {
   "cell_type": "code",
   "execution_count": 25,
   "metadata": {},
   "outputs": [],
   "source": [
    "y_pred = classifier.predict(X_test)"
   ]
  },
  {
   "cell_type": "markdown",
   "metadata": {},
   "source": [
    "## Acurácia do \"flu\"\n",
    "\n",
    "Referência: http://scikit-learn.org/stable/modules/generated/sklearn.metrics.accuracy_score.html#sklearn.metrics.accuracy_score"
   ]
  },
  {
   "cell_type": "code",
   "execution_count": 26,
   "metadata": {
    "scrolled": true
   },
   "outputs": [
    {
     "name": "stdout",
     "output_type": "stream",
     "text": [
      "1.0\n"
     ]
    }
   ],
   "source": [
    "acc = accuracy_score(y_test, y_pred)\n",
    "print(acc)"
   ]
  },
  {
   "cell_type": "markdown",
   "metadata": {},
   "source": [
    "## Preparar variáveis para treino e teste do algoritmo de aprendizagem de máquina apenas para a guitarra acústica"
   ]
  },
  {
   "cell_type": "code",
   "execution_count": 27,
   "metadata": {},
   "outputs": [],
   "source": [
    "gac_x = data_frame.iloc[300:400, :-1].values\n",
    "gac_y = data_frame.iloc[300:400, 52918].values\n",
    "\n",
    "X_train, X_test, y_train, y_test = train_test_split(gac_x, gac_y, test_size = 0.1, random_state = 13)"
   ]
  },
  {
   "cell_type": "markdown",
   "metadata": {},
   "source": [
    "## Usar o StandardScaler para alterar a escala dos dados para que o peso deles seja levado em consideração igualmente\n",
    "\n",
    "Referência: http://scikit-learn.org/stable/modules/generated/sklearn.preprocessing.StandardScaler.html"
   ]
  },
  {
   "cell_type": "code",
   "execution_count": 28,
   "metadata": {
    "scrolled": true
   },
   "outputs": [],
   "source": [
    "X_train = StandardScaler().fit_transform(X_train)\n",
    "X_test = StandardScaler().fit_transform(X_test)"
   ]
  },
  {
   "cell_type": "markdown",
   "metadata": {},
   "source": [
    "## Executar o algoritmo K-NN para as instâncias do \"gac\" no dataframe\n",
    "\n",
    "- n_neighbors = 1    | Seguindo a especificação do trabalho para k = 1\n",
    "- metric = minkowski | Métrica padrão da distância euclidiana\n",
    "- p = 2              | Parâmetro da potência para a distância euclidiana\n",
    "\n",
    "Referência: http://scikit-learn.org/stable/modules/generated/sklearn.neighbors.KNeighborsClassifier.html#sklearn-neighbors-kneighborsclassifier"
   ]
  },
  {
   "cell_type": "code",
   "execution_count": 29,
   "metadata": {
    "scrolled": true
   },
   "outputs": [
    {
     "data": {
      "text/plain": [
       "KNeighborsClassifier(algorithm='auto', leaf_size=30, metric='minkowski',\n",
       "           metric_params=None, n_jobs=1, n_neighbors=1, p=2,\n",
       "           weights='uniform')"
      ]
     },
     "execution_count": 29,
     "metadata": {},
     "output_type": "execute_result"
    }
   ],
   "source": [
    "classifier = KNeighborsClassifier(n_neighbors = 1, metric = 'minkowski', p = 2)\n",
    "classifier.fit(X_train, y_train)"
   ]
  },
  {
   "cell_type": "markdown",
   "metadata": {},
   "source": [
    "## Predizer o resultado da aprendizagem de máquina para classificar o \"gac\""
   ]
  },
  {
   "cell_type": "code",
   "execution_count": 30,
   "metadata": {},
   "outputs": [],
   "source": [
    "y_pred = classifier.predict(X_test)"
   ]
  },
  {
   "cell_type": "markdown",
   "metadata": {},
   "source": [
    "## Acurácia do \"gac\"\n",
    "\n",
    "Referência: http://scikit-learn.org/stable/modules/generated/sklearn.metrics.accuracy_score.html#sklearn.metrics.accuracy_score"
   ]
  },
  {
   "cell_type": "code",
   "execution_count": 31,
   "metadata": {
    "scrolled": true
   },
   "outputs": [
    {
     "name": "stdout",
     "output_type": "stream",
     "text": [
      "1.0\n"
     ]
    }
   ],
   "source": [
    "acc = accuracy_score(y_test, y_pred)\n",
    "print(acc)"
   ]
  },
  {
   "cell_type": "markdown",
   "metadata": {},
   "source": [
    "## Preparar variáveis para treino e teste do algoritmo de aprendizagem de máquina apenas para a guitarra elétrica"
   ]
  },
  {
   "cell_type": "code",
   "execution_count": 32,
   "metadata": {},
   "outputs": [],
   "source": [
    "gel_x = data_frame.iloc[400:500, :-1].values\n",
    "gel_y = data_frame.iloc[400:500, 52918].values\n",
    "\n",
    "X_train, X_test, y_train, y_test = train_test_split(gel_x, gel_y, test_size = 0.1, random_state = 13)"
   ]
  },
  {
   "cell_type": "markdown",
   "metadata": {},
   "source": [
    "## Usar o StandardScaler para alterar a escala dos dados para que o peso deles seja levado em consideração igualmente\n",
    "\n",
    "Referência: http://scikit-learn.org/stable/modules/generated/sklearn.preprocessing.StandardScaler.html"
   ]
  },
  {
   "cell_type": "code",
   "execution_count": 33,
   "metadata": {
    "scrolled": true
   },
   "outputs": [],
   "source": [
    "X_train = StandardScaler().fit_transform(X_train)\n",
    "X_test = StandardScaler().fit_transform(X_test)"
   ]
  },
  {
   "cell_type": "markdown",
   "metadata": {},
   "source": [
    "## Executar o algoritmo K-NN para as instâncias do \"gel\" no dataframe\n",
    "\n",
    "- n_neighbors = 1    | Seguindo a especificação do trabalho para k = 1\n",
    "- metric = minkowski | Métrica padrão da distância euclidiana\n",
    "- p = 2              | Parâmetro da potência para a distância euclidiana\n",
    "\n",
    "Referência: http://scikit-learn.org/stable/modules/generated/sklearn.neighbors.KNeighborsClassifier.html#sklearn-neighbors-kneighborsclassifier"
   ]
  },
  {
   "cell_type": "code",
   "execution_count": 34,
   "metadata": {
    "scrolled": true
   },
   "outputs": [
    {
     "data": {
      "text/plain": [
       "KNeighborsClassifier(algorithm='auto', leaf_size=30, metric='minkowski',\n",
       "           metric_params=None, n_jobs=1, n_neighbors=1, p=2,\n",
       "           weights='uniform')"
      ]
     },
     "execution_count": 34,
     "metadata": {},
     "output_type": "execute_result"
    }
   ],
   "source": [
    "classifier = KNeighborsClassifier(n_neighbors = 1, metric = 'minkowski', p = 2)\n",
    "classifier.fit(X_train, y_train)"
   ]
  },
  {
   "cell_type": "markdown",
   "metadata": {},
   "source": [
    "## Predizer o resultado da aprendizagem de máquina para classificar o \"gel\""
   ]
  },
  {
   "cell_type": "code",
   "execution_count": 35,
   "metadata": {},
   "outputs": [],
   "source": [
    "y_pred = classifier.predict(X_test)"
   ]
  },
  {
   "cell_type": "markdown",
   "metadata": {},
   "source": [
    "## Acurácia do \"gel\"\n",
    "\n",
    "Referência: http://scikit-learn.org/stable/modules/generated/sklearn.metrics.accuracy_score.html#sklearn.metrics.accuracy_score"
   ]
  },
  {
   "cell_type": "code",
   "execution_count": 36,
   "metadata": {
    "scrolled": true
   },
   "outputs": [
    {
     "name": "stdout",
     "output_type": "stream",
     "text": [
      "1.0\n"
     ]
    }
   ],
   "source": [
    "acc = accuracy_score(y_test, y_pred)\n",
    "print(acc)"
   ]
  },
  {
   "cell_type": "markdown",
   "metadata": {},
   "source": [
    "## Preparar variáveis para treino e teste do algoritmo de aprendizagem de máquina apenas para o órgão"
   ]
  },
  {
   "cell_type": "code",
   "execution_count": 37,
   "metadata": {},
   "outputs": [],
   "source": [
    "org_x = data_frame.iloc[500:600, :-1].values\n",
    "org_y = data_frame.iloc[500:600, 52918].values\n",
    "\n",
    "X_train, X_test, y_train, y_test = train_test_split(org_x, org_y, test_size = 0.1, random_state = 13)"
   ]
  },
  {
   "cell_type": "markdown",
   "metadata": {},
   "source": [
    "## Usar o StandardScaler para alterar a escala dos dados para que o peso deles seja levado em consideração igualmente\n",
    "\n",
    "Referência: http://scikit-learn.org/stable/modules/generated/sklearn.preprocessing.StandardScaler.html"
   ]
  },
  {
   "cell_type": "code",
   "execution_count": 38,
   "metadata": {
    "scrolled": true
   },
   "outputs": [],
   "source": [
    "X_train = StandardScaler().fit_transform(X_train)\n",
    "X_test = StandardScaler().fit_transform(X_test)"
   ]
  },
  {
   "cell_type": "markdown",
   "metadata": {},
   "source": [
    "## Executar o algoritmo K-NN para as instâncias do \"org\" no dataframe\n",
    "\n",
    "- n_neighbors = 1    | Seguindo a especificação do trabalho para k = 1\n",
    "- metric = minkowski | Métrica padrão da distância euclidiana\n",
    "- p = 2              | Parâmetro da potência para a distância euclidiana\n",
    "\n",
    "Referência: http://scikit-learn.org/stable/modules/generated/sklearn.neighbors.KNeighborsClassifier.html#sklearn-neighbors-kneighborsclassifier"
   ]
  },
  {
   "cell_type": "code",
   "execution_count": 39,
   "metadata": {
    "scrolled": true
   },
   "outputs": [
    {
     "data": {
      "text/plain": [
       "KNeighborsClassifier(algorithm='auto', leaf_size=30, metric='minkowski',\n",
       "           metric_params=None, n_jobs=1, n_neighbors=1, p=2,\n",
       "           weights='uniform')"
      ]
     },
     "execution_count": 39,
     "metadata": {},
     "output_type": "execute_result"
    }
   ],
   "source": [
    "classifier = KNeighborsClassifier(n_neighbors = 1, metric = 'minkowski', p = 2)\n",
    "classifier.fit(X_train, y_train)"
   ]
  },
  {
   "cell_type": "markdown",
   "metadata": {},
   "source": [
    "## Predizer o resultado da aprendizagem de máquina para classificar o \"org\""
   ]
  },
  {
   "cell_type": "code",
   "execution_count": 40,
   "metadata": {},
   "outputs": [],
   "source": [
    "y_pred = classifier.predict(X_test)"
   ]
  },
  {
   "cell_type": "markdown",
   "metadata": {},
   "source": [
    "## Acurácia do \"org\"\n",
    "\n",
    "Referência: http://scikit-learn.org/stable/modules/generated/sklearn.metrics.accuracy_score.html#sklearn.metrics.accuracy_score"
   ]
  },
  {
   "cell_type": "code",
   "execution_count": 41,
   "metadata": {
    "scrolled": true
   },
   "outputs": [
    {
     "name": "stdout",
     "output_type": "stream",
     "text": [
      "1.0\n"
     ]
    }
   ],
   "source": [
    "acc = accuracy_score(y_test, y_pred)\n",
    "print(acc)"
   ]
  },
  {
   "cell_type": "markdown",
   "metadata": {},
   "source": [
    "## Preparar variáveis para treino e teste do algoritmo de aprendizagem de máquina apenas para o piano"
   ]
  },
  {
   "cell_type": "code",
   "execution_count": 42,
   "metadata": {},
   "outputs": [],
   "source": [
    "pia_x = data_frame.iloc[600:700, :-1].values\n",
    "pia_y = data_frame.iloc[600:700, 52918].values\n",
    "\n",
    "X_train, X_test, y_train, y_test = train_test_split(pia_x, pia_y, test_size = 0.1, random_state = 13)"
   ]
  },
  {
   "cell_type": "markdown",
   "metadata": {},
   "source": [
    "## Usar o StandardScaler para alterar a escala dos dados para que o peso deles seja levado em consideração igualmente\n",
    "\n",
    "Referência: http://scikit-learn.org/stable/modules/generated/sklearn.preprocessing.StandardScaler.html"
   ]
  },
  {
   "cell_type": "code",
   "execution_count": 43,
   "metadata": {
    "scrolled": true
   },
   "outputs": [],
   "source": [
    "X_train = StandardScaler().fit_transform(X_train)\n",
    "X_test = StandardScaler().fit_transform(X_test)"
   ]
  },
  {
   "cell_type": "markdown",
   "metadata": {},
   "source": [
    "## Executar o algoritmo K-NN para as instâncias do \"pia\" no dataframe\n",
    "\n",
    "- n_neighbors = 1    | Seguindo a especificação do trabalho para k = 1\n",
    "- metric = minkowski | Métrica padrão da distância euclidiana\n",
    "- p = 2              | Parâmetro da potência para a distância euclidiana\n",
    "\n",
    "Referência: http://scikit-learn.org/stable/modules/generated/sklearn.neighbors.KNeighborsClassifier.html#sklearn-neighbors-kneighborsclassifier"
   ]
  },
  {
   "cell_type": "code",
   "execution_count": 44,
   "metadata": {
    "scrolled": true
   },
   "outputs": [
    {
     "data": {
      "text/plain": [
       "KNeighborsClassifier(algorithm='auto', leaf_size=30, metric='minkowski',\n",
       "           metric_params=None, n_jobs=1, n_neighbors=1, p=2,\n",
       "           weights='uniform')"
      ]
     },
     "execution_count": 44,
     "metadata": {},
     "output_type": "execute_result"
    }
   ],
   "source": [
    "classifier = KNeighborsClassifier(n_neighbors = 1, metric = 'minkowski', p = 2)\n",
    "classifier.fit(X_train, y_train)"
   ]
  },
  {
   "cell_type": "markdown",
   "metadata": {},
   "source": [
    "## Predizer o resultado da aprendizagem de máquina para classificar o \"pia\""
   ]
  },
  {
   "cell_type": "code",
   "execution_count": 45,
   "metadata": {},
   "outputs": [],
   "source": [
    "y_pred = classifier.predict(X_test)"
   ]
  },
  {
   "cell_type": "markdown",
   "metadata": {},
   "source": [
    "## Acurácia do \"pia\"\n",
    "\n",
    "Referência: http://scikit-learn.org/stable/modules/generated/sklearn.metrics.accuracy_score.html#sklearn.metrics.accuracy_score"
   ]
  },
  {
   "cell_type": "code",
   "execution_count": 46,
   "metadata": {
    "scrolled": false
   },
   "outputs": [
    {
     "name": "stdout",
     "output_type": "stream",
     "text": [
      "1.0\n"
     ]
    }
   ],
   "source": [
    "acc = accuracy_score(y_test, y_pred)\n",
    "print(acc)"
   ]
  },
  {
   "cell_type": "markdown",
   "metadata": {},
   "source": [
    "## Preparar variáveis para treino e teste do algoritmo de aprendizagem de máquina apenas para o saxofone"
   ]
  },
  {
   "cell_type": "code",
   "execution_count": 47,
   "metadata": {},
   "outputs": [],
   "source": [
    "sax_x = data_frame.iloc[700:800, :-1].values\n",
    "sax_y = data_frame.iloc[700:800, 52918].values\n",
    "\n",
    "X_train, X_test, y_train, y_test = train_test_split(sax_x, sax_y, test_size = 0.1, random_state = 13)"
   ]
  },
  {
   "cell_type": "markdown",
   "metadata": {},
   "source": [
    "## Usar o StandardScaler para alterar a escala dos dados para que o peso deles seja levado em consideração igualmente\n",
    "\n",
    "Referência: http://scikit-learn.org/stable/modules/generated/sklearn.preprocessing.StandardScaler.html"
   ]
  },
  {
   "cell_type": "code",
   "execution_count": 48,
   "metadata": {
    "scrolled": true
   },
   "outputs": [],
   "source": [
    "X_train = StandardScaler().fit_transform(X_train)\n",
    "X_test = StandardScaler().fit_transform(X_test)"
   ]
  },
  {
   "cell_type": "markdown",
   "metadata": {},
   "source": [
    "## Executar o algoritmo K-NN para as instâncias do \"sax\" no dataframe\n",
    "\n",
    "- n_neighbors = 1    | Seguindo a especificação do trabalho para k = 1\n",
    "- metric = minkowski | Métrica padrão da distância euclidiana\n",
    "- p = 2              | Parâmetro da potência para a distância euclidiana\n",
    "\n",
    "Referência: http://scikit-learn.org/stable/modules/generated/sklearn.neighbors.KNeighborsClassifier.html#sklearn-neighbors-kneighborsclassifier"
   ]
  },
  {
   "cell_type": "code",
   "execution_count": 49,
   "metadata": {
    "scrolled": true
   },
   "outputs": [
    {
     "data": {
      "text/plain": [
       "KNeighborsClassifier(algorithm='auto', leaf_size=30, metric='minkowski',\n",
       "           metric_params=None, n_jobs=1, n_neighbors=1, p=2,\n",
       "           weights='uniform')"
      ]
     },
     "execution_count": 49,
     "metadata": {},
     "output_type": "execute_result"
    }
   ],
   "source": [
    "classifier = KNeighborsClassifier(n_neighbors = 1, metric = 'minkowski', p = 2)\n",
    "classifier.fit(X_train, y_train)"
   ]
  },
  {
   "cell_type": "markdown",
   "metadata": {},
   "source": [
    "## Predizer o resultado da aprendizagem de máquina para classificar o \"sax\""
   ]
  },
  {
   "cell_type": "code",
   "execution_count": 50,
   "metadata": {},
   "outputs": [],
   "source": [
    "y_pred = classifier.predict(X_test)"
   ]
  },
  {
   "cell_type": "markdown",
   "metadata": {},
   "source": [
    "## Acurácia do \"sax\"\n",
    "\n",
    "Referência: http://scikit-learn.org/stable/modules/generated/sklearn.metrics.accuracy_score.html#sklearn.metrics.accuracy_score"
   ]
  },
  {
   "cell_type": "code",
   "execution_count": 51,
   "metadata": {
    "scrolled": true
   },
   "outputs": [
    {
     "name": "stdout",
     "output_type": "stream",
     "text": [
      "1.0\n"
     ]
    }
   ],
   "source": [
    "acc = accuracy_score(y_test, y_pred)\n",
    "print(acc)"
   ]
  },
  {
   "cell_type": "markdown",
   "metadata": {},
   "source": [
    "## Preparar variáveis para treino e teste do algoritmo de aprendizagem de máquina apenas para o trumpete"
   ]
  },
  {
   "cell_type": "code",
   "execution_count": 52,
   "metadata": {},
   "outputs": [],
   "source": [
    "tru_x = data_frame.iloc[800:900, :-1].values\n",
    "tru_y = data_frame.iloc[800:900, 52918].values\n",
    "\n",
    "X_train, X_test, y_train, y_test = train_test_split(tru_x, tru_y, test_size = 0.1, random_state = 13)"
   ]
  },
  {
   "cell_type": "markdown",
   "metadata": {},
   "source": [
    "## Usar o StandardScaler para alterar a escala dos dados para que o peso deles seja levado em consideração igualmente\n",
    "\n",
    "Referência: http://scikit-learn.org/stable/modules/generated/sklearn.preprocessing.StandardScaler.html"
   ]
  },
  {
   "cell_type": "code",
   "execution_count": 53,
   "metadata": {
    "scrolled": true
   },
   "outputs": [],
   "source": [
    "X_train = StandardScaler().fit_transform(X_train)\n",
    "X_test = StandardScaler().fit_transform(X_test)"
   ]
  },
  {
   "cell_type": "markdown",
   "metadata": {},
   "source": [
    "## Executar o algoritmo K-NN para as instâncias do \"tru\" no dataframe\n",
    "\n",
    "- n_neighbors = 1    | Seguindo a especificação do trabalho para k = 1\n",
    "- metric = minkowski | Métrica padrão da distância euclidiana\n",
    "- p = 2              | Parâmetro da potência para a distância euclidiana\n",
    "\n",
    "Referência: http://scikit-learn.org/stable/modules/generated/sklearn.neighbors.KNeighborsClassifier.html#sklearn-neighbors-kneighborsclassifier"
   ]
  },
  {
   "cell_type": "code",
   "execution_count": 54,
   "metadata": {
    "scrolled": true
   },
   "outputs": [
    {
     "data": {
      "text/plain": [
       "KNeighborsClassifier(algorithm='auto', leaf_size=30, metric='minkowski',\n",
       "           metric_params=None, n_jobs=1, n_neighbors=1, p=2,\n",
       "           weights='uniform')"
      ]
     },
     "execution_count": 54,
     "metadata": {},
     "output_type": "execute_result"
    }
   ],
   "source": [
    "classifier = KNeighborsClassifier(n_neighbors = 1, metric = 'minkowski', p = 2)\n",
    "classifier.fit(X_train, y_train)"
   ]
  },
  {
   "cell_type": "markdown",
   "metadata": {},
   "source": [
    "## Predizer o resultado da aprendizagem de máquina para classificar o \"tru\""
   ]
  },
  {
   "cell_type": "code",
   "execution_count": 55,
   "metadata": {},
   "outputs": [],
   "source": [
    "y_pred = classifier.predict(X_test)"
   ]
  },
  {
   "cell_type": "markdown",
   "metadata": {},
   "source": [
    "## Acurácia do \"tru\"\n",
    "\n",
    "Referência: http://scikit-learn.org/stable/modules/generated/sklearn.metrics.accuracy_score.html#sklearn.metrics.accuracy_score"
   ]
  },
  {
   "cell_type": "code",
   "execution_count": 56,
   "metadata": {
    "scrolled": true
   },
   "outputs": [
    {
     "name": "stdout",
     "output_type": "stream",
     "text": [
      "1.0\n"
     ]
    }
   ],
   "source": [
    "acc = accuracy_score(y_test, y_pred)\n",
    "print(acc)"
   ]
  },
  {
   "cell_type": "markdown",
   "metadata": {},
   "source": [
    "## Preparar variáveis para treino e teste do algoritmo de aprendizagem de máquina apenas para o violino"
   ]
  },
  {
   "cell_type": "code",
   "execution_count": 57,
   "metadata": {},
   "outputs": [],
   "source": [
    "vio_x = data_frame.iloc[900:1000, :-1].values\n",
    "vio_y = data_frame.iloc[900:1000, 52918].values\n",
    "\n",
    "X_train, X_test, y_train, y_test = train_test_split(vio_x, vio_y, test_size = 0.1, random_state = 13)"
   ]
  },
  {
   "cell_type": "markdown",
   "metadata": {},
   "source": [
    "## Usar o StandardScaler para alterar a escala dos dados para que o peso deles seja levado em consideração igualmente\n",
    "\n",
    "Referência: http://scikit-learn.org/stable/modules/generated/sklearn.preprocessing.StandardScaler.html"
   ]
  },
  {
   "cell_type": "code",
   "execution_count": 58,
   "metadata": {
    "scrolled": true
   },
   "outputs": [],
   "source": [
    "X_train = StandardScaler().fit_transform(X_train)\n",
    "X_test = StandardScaler().fit_transform(X_test)"
   ]
  },
  {
   "cell_type": "markdown",
   "metadata": {},
   "source": [
    "## Executar o algoritmo K-NN para as instâncias do \"vio\" no dataframe\n",
    "\n",
    "- n_neighbors = 1    | Seguindo a especificação do trabalho para k = 1\n",
    "- metric = minkowski | Métrica padrão da distância euclidiana\n",
    "- p = 2              | Parâmetro da potência para a distância euclidiana\n",
    "\n",
    "Referência: http://scikit-learn.org/stable/modules/generated/sklearn.neighbors.KNeighborsClassifier.html#sklearn-neighbors-kneighborsclassifier"
   ]
  },
  {
   "cell_type": "code",
   "execution_count": 59,
   "metadata": {
    "scrolled": true
   },
   "outputs": [
    {
     "data": {
      "text/plain": [
       "KNeighborsClassifier(algorithm='auto', leaf_size=30, metric='minkowski',\n",
       "           metric_params=None, n_jobs=1, n_neighbors=1, p=2,\n",
       "           weights='uniform')"
      ]
     },
     "execution_count": 59,
     "metadata": {},
     "output_type": "execute_result"
    }
   ],
   "source": [
    "classifier = KNeighborsClassifier(n_neighbors = 1, metric = 'minkowski', p = 2)\n",
    "classifier.fit(X_train, y_train)"
   ]
  },
  {
   "cell_type": "markdown",
   "metadata": {},
   "source": [
    "## Predizer o resultado da aprendizagem de máquina para classificar o \"vio\""
   ]
  },
  {
   "cell_type": "code",
   "execution_count": 60,
   "metadata": {},
   "outputs": [],
   "source": [
    "y_pred = classifier.predict(X_test)"
   ]
  },
  {
   "cell_type": "markdown",
   "metadata": {},
   "source": [
    "## Acurácia do \"vio\"\n",
    "\n",
    "Referência: http://scikit-learn.org/stable/modules/generated/sklearn.metrics.accuracy_score.html#sklearn.metrics.accuracy_score"
   ]
  },
  {
   "cell_type": "code",
   "execution_count": 61,
   "metadata": {
    "scrolled": true
   },
   "outputs": [
    {
     "name": "stdout",
     "output_type": "stream",
     "text": [
      "1.0\n"
     ]
    }
   ],
   "source": [
    "acc = accuracy_score(y_test, y_pred)\n",
    "print(acc)"
   ]
  },
  {
   "cell_type": "code",
   "execution_count": null,
   "metadata": {},
   "outputs": [],
   "source": []
  }
 ],
 "metadata": {
  "kernelspec": {
   "display_name": "Python 3",
   "language": "python",
   "name": "python3"
  },
  "language_info": {
   "codemirror_mode": {
    "name": "ipython",
    "version": 3
   },
   "file_extension": ".py",
   "mimetype": "text/x-python",
   "name": "python",
   "nbconvert_exporter": "python",
   "pygments_lexer": "ipython3",
   "version": "3.7.0"
  }
 },
 "nbformat": 4,
 "nbformat_minor": 2
}
