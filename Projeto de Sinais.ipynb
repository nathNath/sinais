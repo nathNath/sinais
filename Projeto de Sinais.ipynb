{
 "cells": [
  {
   "cell_type": "markdown",
   "metadata": {},
   "source": [
    "# Projeto de Sinais\n",
    "\n",
    "## Sinais e Sistemas Dinâmicos - Prof. Derzu Omaia\n",
    "\n",
    "## Jansepetrus Brasileiro Pereira e Nathália de Vasconcelos Silva\n",
    "\n",
    "Descrição do projeto: https://www.dropbox.com/s/wzibx7g7136um4z/Projeto.pdf?dl=0"
   ]
  },
  {
   "cell_type": "markdown",
   "metadata": {},
   "source": [
    "### Importar todas as bibliotecas necessárias para o projeto"
   ]
  },
  {
   "cell_type": "code",
   "execution_count": 1,
   "metadata": {},
   "outputs": [],
   "source": [
    "import os\n",
    "import numpy as np\n",
    "import pandas as pd\n",
    "import matplotlib.pyplot as plt\n",
    "from scipy.io import wavfile\n",
    "from scipy.fftpack import fft"
   ]
  },
  {
   "cell_type": "markdown",
   "metadata": {},
   "source": [
    "### Percorrer a pasta do dataset IRMAS, abrir todos os arquivos .wav e aplicar a transformada de Fourier"
   ]
  },
  {
   "cell_type": "code",
   "execution_count": 20,
   "metadata": {},
   "outputs": [
    {
     "name": "stdout",
     "output_type": "stream",
     "text": [
      "                                                     1\n",
      "0    [[-661, -691], [-760, -863], [-784, -974], [-7...\n",
      "1    [[-491, 42], [-445, 9], [-407, 19], [-383, 122...\n",
      "2    [[1721, 6998], [-677, 7034], [-2536, 6820], [-...\n",
      "3    [[-315, 144], [-171, 104], [-19, 72], [128, 42...\n",
      "4    [[89, 319], [-15, 227], [-126, 101], [-219, -3...\n",
      "5    [[998, 3036], [560, 2577], [349, 2097], [289, ...\n",
      "6    [[-842, -453], [-920, -346], [-887, -145], [-7...\n",
      "7    [[177, 1661], [269, 1473], [335, 1275], [381, ...\n",
      "8    [[-767, -1451], [-705, -1477], [-610, -1476], ...\n",
      "9    [[2222, 3990], [1844, 3918], [1914, 4191], [22...\n",
      "10   [[-102, -772], [-102, -739], [-115, -700], [-1...\n",
      "11   [[-61, 1102], [-189, 1146], [-307, 1255], [-38...\n",
      "12   [[657, 56], [669, 151], [636, 224], [587, 289]...\n",
      "13   [[-4, 154], [38, 152], [46, 167], [22, 192], [...\n",
      "14   [[-447, -445], [-557, -530], [-707, -623], [-8...\n",
      "15   [[-3, -143], [26, -83], [74, -25], [131, 25], ...\n",
      "16   [[1101, -789], [991, -805], [846, -831], [670,...\n",
      "17   [[343, 234], [403, 287], [453, 346], [511, 383...\n",
      "18   [[-36, 105], [-43, 135], [-56, 159], [-80, 172...\n",
      "19   [[6375, -963], [8269, -1246], [10368, -1509], ...\n",
      "20   [[741, 424], [670, 399], [605, 436], [558, 494...\n",
      "21   [[-683, -1524], [-813, -1513], [-986, -1342], ...\n",
      "22   [[-338, 1030], [-274, 952], [-210, 911], [-133...\n",
      "23   [[-732, -4580], [-805, -4296], [-518, -3943], ...\n",
      "24   [[1381, -341], [1482, -271], [1511, -205], [15...\n",
      "25   [[1931, 1982], [2220, 2255], [2704, 2368], [32...\n",
      "26   [[-3236, 1362], [-3109, 966], [-2813, 405], [-...\n",
      "27   [[-5175, -3512], [-5184, -3229], [-4963, -2580...\n",
      "28   [[-109, -306], [-98, -281], [-142, -317], [-22...\n",
      "29   [[-203, -1398], [-362, -1634], [-565, -1906], ...\n",
      "..                                                 ...\n",
      "960  [[106, -962], [45, -953], [0, -946], [-34, -93...\n",
      "961  [[1449, 2131], [1437, 2237], [1405, 2305], [13...\n",
      "962  [[-1198, 3159], [-1393, 2859], [-1565, 2559], ...\n",
      "963  [[800, 1393], [449, 1238], [103, 1042], [-239,...\n",
      "964  [[-2044, -4896], [-2331, -5316], [-2582, -5670...\n",
      "965  [[-542, -361], [-545, -513], [-563, -670], [-5...\n",
      "966  [[-1272, -967], [-1000, -1044], [-754, -1052],...\n",
      "967  [[-70, 155], [-122, 86], [-172, 15], [-221, -5...\n",
      "968  [[-496, -142], [-578, -186], [-657, -249], [-7...\n",
      "969  [[-1078, -2529], [-961, -2250], [-828, -1965],...\n",
      "970  [[-291, -107], [-307, -96], [-319, -86], [-328...\n",
      "971  [[-300, 2895], [-453, 2936], [-584, 2926], [-7...\n",
      "972  [[3329, 4308], [3111, 4160], [2763, 3738], [23...\n",
      "973  [[881, 2860], [985, 2541], [1099, 2167], [1242...\n",
      "974  [[2964, 3568], [2951, 3154], [2869, 2650], [27...\n",
      "975  [[3433, 1539], [3462, 1469], [3471, 1413], [34...\n",
      "976  [[-1586, 2070], [-1366, 2393], [-1110, 2699], ...\n",
      "977  [[321, 1071], [395, 1002], [459, 915], [513, 8...\n",
      "978  [[-1206, 1595], [-1095, 1648], [-948, 1687], [...\n",
      "979  [[-1034, 1525], [-1071, 1323], [-1120, 1135], ...\n",
      "980  [[-2098, 1515], [-1910, 2212], [-1630, 2983], ...\n",
      "981  [[1793, 2525], [1868, 2638], [1945, 2681], [19...\n",
      "982  [[208, -72], [184, -118], [159, -156], [134, -...\n",
      "983  [[-2108, 1958], [-2331, 1875], [-2511, 1787], ...\n",
      "984  [[-188, -266], [-216, -352], [-233, -429], [-2...\n",
      "985  [[1359, 939], [1223, 824], [1140, 574], [1056,...\n",
      "986  [[-173, -261], [-86, -231], [20, -181], [125, ...\n",
      "987  [[-1783, 1366], [-1578, 1316], [-1374, 1256], ...\n",
      "988  [[542, 194], [557, 199], [565, 198], [570, 197...\n",
      "989  [[-1133, 140], [-1071, 133], [-1003, 122], [-9...\n",
      "\n",
      "[990 rows x 1 columns]\n"
     ]
    },
    {
     "data": {
      "text/html": [
       "<div>\n",
       "<style scoped>\n",
       "    .dataframe tbody tr th:only-of-type {\n",
       "        vertical-align: middle;\n",
       "    }\n",
       "\n",
       "    .dataframe tbody tr th {\n",
       "        vertical-align: top;\n",
       "    }\n",
       "\n",
       "    .dataframe thead th {\n",
       "        text-align: right;\n",
       "    }\n",
       "</style>\n",
       "<table border=\"1\" class=\"dataframe\">\n",
       "  <thead>\n",
       "    <tr style=\"text-align: right;\">\n",
       "      <th></th>\n",
       "      <th>1</th>\n",
       "    </tr>\n",
       "  </thead>\n",
       "  <tbody>\n",
       "    <tr>\n",
       "      <th>count</th>\n",
       "      <td>990</td>\n",
       "    </tr>\n",
       "    <tr>\n",
       "      <th>unique</th>\n",
       "      <td>990</td>\n",
       "    </tr>\n",
       "    <tr>\n",
       "      <th>top</th>\n",
       "      <td>[[-3791, -4045], [-4049, -4278], [-4286, -4516...</td>\n",
       "    </tr>\n",
       "    <tr>\n",
       "      <th>freq</th>\n",
       "      <td>1</td>\n",
       "    </tr>\n",
       "  </tbody>\n",
       "</table>\n",
       "</div>"
      ],
      "text/plain": [
       "                                                        1\n",
       "count                                                 990\n",
       "unique                                                990\n",
       "top     [[-3791, -4045], [-4049, -4278], [-4286, -4516...\n",
       "freq                                                    1"
      ]
     },
     "execution_count": 20,
     "metadata": {},
     "output_type": "execute_result"
    }
   ],
   "source": [
    "instruments = os.listdir('IRMAS-TrainingData_red/')\n",
    "\n",
    "file_instruments = []\n",
    "data = []\n",
    "\n",
    "for x in range (0, 10):\n",
    "    file_instruments.append(os.listdir('IRMAS-TrainingData_red/' + instruments[x])) \n",
    "\n",
    "for x in range (0, 10):\n",
    "    for y in range (0, 99):\n",
    "        data.append(wavfile.read('IRMAS-TrainingData_red/' + instruments[x] + '/' + file_instruments[x][y]))\n",
    "        #fft_output = fft(data)\n",
    "\n",
    "        #%matplotlib inline\n",
    "        #plt.plot(data, np.abs(fft_output))\n",
    "        #plt.show()\n",
    "\n",
    "# Convertendo a lista 'data' para um dataframe 'df_data' e deletando a coluna referente ao sampling rate\n",
    "df_data = pd.DataFrame(data)\n",
    "df_data = df_data.drop(axis = 1, columns = 0)\n",
    "print(df_data)\n",
    "df_data.describe()"
   ]
  },
  {
   "cell_type": "markdown",
   "metadata": {},
   "source": [
    "### Converter o Numpy array dos dados da transformada de Fourier em Pandas DataFrame"
   ]
  },
  {
   "cell_type": "markdown",
   "metadata": {},
   "source": [
    "#df_fft = pd.DataFrame(fft_output)\n",
    "df_fft = pd.DataFrame(data)\n",
    "df_fft.describe()"
   ]
  },
  {
   "cell_type": "code",
   "execution_count": null,
   "metadata": {},
   "outputs": [],
   "source": []
  }
 ],
 "metadata": {
  "kernelspec": {
   "display_name": "Python 3",
   "language": "python",
   "name": "python3"
  },
  "language_info": {
   "codemirror_mode": {
    "name": "ipython",
    "version": 3
   },
   "file_extension": ".py",
   "mimetype": "text/x-python",
   "name": "python",
   "nbconvert_exporter": "python",
   "pygments_lexer": "ipython3",
   "version": "3.6.5"
  }
 },
 "nbformat": 4,
 "nbformat_minor": 2
}
