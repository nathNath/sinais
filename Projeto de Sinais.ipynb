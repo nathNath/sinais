{
 "cells": [
  {
   "cell_type": "markdown",
   "metadata": {},
   "source": [
    "# Projeto de Sinais\n",
    "\n",
    "## Sinais e Sistemas Dinâmicos - Prof. Derzu Omaia\n",
    "\n",
    "## Jansepetrus Brasileiro Pereira e Nathália de Vasconcelos Silva\n",
    "\n",
    "Descrição do projeto: https://www.dropbox.com/s/wzibx7g7136um4z/Projeto.pdf?dl=0"
   ]
  },
  {
   "cell_type": "markdown",
   "metadata": {},
   "source": [
    "### Importar todas as bibliotecas necessárias para o projeto"
   ]
  },
  {
   "cell_type": "code",
   "execution_count": 1,
   "metadata": {},
   "outputs": [],
   "source": [
    "import os\n",
    "import numpy as np\n",
    "import pandas as pd\n",
    "import matplotlib.pyplot as plt\n",
    "from scipy.io import wavfile\n",
    "from scipy.fftpack import fft\n",
    "from scipy.signal import butter, lfilter, freqz"
   ]
  },
  {
   "cell_type": "markdown",
   "metadata": {},
   "source": [
    "### Definicao das funções de usuário a serem utilizadas"
   ]
  },
  {
   "cell_type": "code",
   "execution_count": 2,
   "metadata": {},
   "outputs": [],
   "source": [
    "def plot_wav(wav, sample_rate, save_plot=False, nome_plot=\"\", sufixo_nome=\"\"):\n",
    "    if(nome_plot == \"\"):\n",
    "        from datetime import datetime\n",
    "        nome_plot = str(datetime.now()).replace(\":\",\"-\")\n",
    "        \n",
    "    times = np.arange(len(wav))/float(sample_rate)\n",
    "\n",
    "    plt.figure(figsize=(30, 4))\n",
    "\n",
    "    if(wav.ndim == 2):\n",
    "        plt.fill_between(times, wav[:,0], wav[:,1], color='k') # para dual-channel\n",
    "    else:\n",
    "        plt.fill_between(times, wav)\n",
    "\n",
    "    plt.xlim(times[0], times[-1])\n",
    "    plt.xlabel('Tempo (s)')\n",
    "    plt.ylabel('Amplitude')\n",
    "    plt.title(sufixo_nome, loc='left')\n",
    "    plt.title(nome_plot, loc='right')\n",
    "    \n",
    "    if(save_plot):\n",
    "        plt.savefig(nome_plot + \"_\" + sufixo_nome + '.png', dpi=210)\n",
    "    plt.show()\n",
    "\n",
    "def plot_wav_freqDomain(fft_wav, freq, N, save_plot=False, nome_plot=\"\", sufixo_nome=\"\"):\n",
    "    if(nome_plot == \"\"):\n",
    "        from datetime import datetime\n",
    "        nome_plot = str(datetime.now()).replace(\":\",\"-\")\n",
    "        \n",
    "    plt.plot(freq, (1.0/N)*np.abs(fft_wav))\n",
    "    plt.xlabel('Frequência (Hz)')\n",
    "    plt.ylabel('Magnitude do Espectro (Domínio da Frequência)')\n",
    "    plt.title(sufixo_nome, loc='left')\n",
    "    plt.title(nome_plot, loc='right')\n",
    "    plt.grid()\n",
    "    if(save_plot):\n",
    "        plt.savefig(nome_plot + \"_\" + sufixo_nome + '.png', dpi=210)\n",
    "    plt.show()\n",
    "    \n",
    "def simple_plot_wav(wav_data, sample_rate, L, sufixo_nome=\"\", save_plot=False, nome_plot=\"\"):\n",
    "    if(nome_plot == \"\"):\n",
    "        from datetime import datetime\n",
    "        nome_plot = str(datetime.now()).replace(\":\",\"-\")\n",
    "\n",
    "    plt.plot(np.arange(L) / sample_rate, wav_data)\n",
    "    plt.xlim(0,L/sample_rate)\n",
    "    plt.xlabel('Tempo (s)')\n",
    "    plt.ylabel('Amplitude');\n",
    "    plt.title(sufixo_nome, loc='left')\n",
    "    plt.title(nome_plot, loc='right')\n",
    "    \n",
    "    if(save_plot):\n",
    "        plt.savefig(nome_plot + \"_\" + sufixo_nome + '.png', dpi=210)\n",
    "    plt.show()\n",
    "    \n",
    "def plot_resposta_freq(w, h, sample_rate, freq_corte, sufixo_nome=\"\", save_plot=False, nome_plot=\"\"):\n",
    "    if(nome_plot == \"\"):\n",
    "        from datetime import datetime\n",
    "        nome_plot = str(datetime.now()).replace(\":\",\"-\")\n",
    "    \n",
    "    #plt.subplot(2, 1, 1)\n",
    "    plt.plot(0.5*sample_rate*w/np.pi, np.abs(h), 'b')\n",
    "    plt.plot(freq_corte, 0.5*np.sqrt(2), 'ko')\n",
    "    plt.axvline(freq_corte, color='k')\n",
    "    plt.xlim(0, 0.5*sample_rate)\n",
    "    plt.title(\"Resposta em Frequência - Filtro Passa-Baixa\")\n",
    "    plt.xlabel('Frequência (Hz)')\n",
    "    plt.grid()\n",
    "        \n",
    "    if(save_plot):\n",
    "        plt.savefig(nome_plot + \"_\" + sufixo_nome + '.png', dpi=210)\n",
    "    \n",
    "    plt.show()"
   ]
  },
  {
   "cell_type": "markdown",
   "metadata": {},
   "source": [
    "### Definição dos Parâmetros de Execução"
   ]
  },
  {
   "cell_type": "code",
   "execution_count": 3,
   "metadata": {},
   "outputs": [],
   "source": [
    "####\n",
    "# Parametros de Execucao\n",
    "####\n",
    "PLOT_SINAL_ORIGINAL = False\n",
    "PLOT_SINAL_FFT = False\n",
    "PLOT_SINAL_FFT_SHIFT = False\n",
    "PLOT_SINAL_FFT_SHIFT_RESPFREQ = False\n",
    "PLOT_SINAL_FFT_SHIFT_BUTTER = False\n",
    "PLOT_SINAL_FFT_SHIFT_BUTTER_COMPARATIVO = False\n",
    "PLOT_SINAL_FFT_SHIFT_BUTTER_CORTE = False\n",
    "MONO = True\n",
    "MONO_ESQ = True\n",
    "STEREO = not MONO\n",
    "MONO_DIR = not MONO_ESQ"
   ]
  },
  {
   "cell_type": "markdown",
   "metadata": {},
   "source": [
    "### Percorrer a pasta do dataset IRMAS, abrir todos os arquivos .wav e aplicar a transformada de Fourier"
   ]
  },
  {
   "cell_type": "code",
   "execution_count": null,
   "metadata": {
    "scrolled": true
   },
   "outputs": [],
   "source": [
    "#ROOT_PATH = 'IRMAS-TrainingData_red' + os.sep\n",
    "ROOT_PATH = 'TESTE' + os.sep\n",
    "#ROOT_PATH = 'UM' + os.sep\n",
    "\n",
    "signal_dataset = []\n",
    "\n",
    "for root, dirs, files in os.walk(ROOT_PATH):  \n",
    "    for filename in files:\n",
    "        ####\n",
    "        # Leitura do arquivo WAV\n",
    "        ####\n",
    "        sample_rate, wav_data = wavfile.read(root + os.sep + filename)\n",
    "        \n",
    "        ####\n",
    "        # Captura do sinal em um ndarray\n",
    "        ####\n",
    "        #if(wav_data.ndim == 2):\n",
    "        #    if(STEREO):\n",
    "        #        x = wav_data\n",
    "        #if(MONO_DIR):\n",
    "        #    x = wav_data[0:,1] # canal da direita\n",
    "        #if(MONO_ESQ):\n",
    "        #    x = wav_data[0:,0] # canal da esquerda\n",
    "        wav_data = np.mean(wav_data, axis=1) #Conversao de sinal stereo para mono, fazendo a media dos canais esquerdo e direito\n",
    "        \n",
    "        ####\n",
    "        # Especificacoes do dominio do tempo\n",
    "        ####\n",
    "        L = wav_data.shape[0]\n",
    "        dt = 1.0 / sample_rate\n",
    "        t = np.arange(0, (L/sample_rate)-dt, dt).T # Discretizacao da amostragem ao passo ((L/sample_rate)-dt)\n",
    "        #t = np.linspace(0, dt, L)\n",
    "        N = t.size + 1\n",
    "        if (PLOT_SINAL_ORIGINAL):\n",
    "            #plot_wav(wav_data, sample_rate, sufixo_nome=\"ORIG\", save_plot=True, nome_plot=filename)\n",
    "            simple_plot_wav(wav_data, sample_rate, L, sufixo_nome=\"_01_ORIG\", save_plot=True, nome_plot=filename)\n",
    "        \n",
    "        ####\n",
    "        # Especificacoes do dominio da frequencia\n",
    "        ####\n",
    "        dF = sample_rate/N # hertz\n",
    "        freq = np.arange(-sample_rate/2, sample_rate/2-dF, dF)\n",
    "        freq_max = np.amax(freq)\n",
    "        \n",
    "        ####\n",
    "        # Aplicacao da FFT e Calculo da Frequencia do sinal\n",
    "        ####\n",
    "        fft_output = fft(wav_data) # Fourier.\n",
    "        if (PLOT_SINAL_FFT):\n",
    "            plot_wav_freqDomain(fft_output, freq, N, sufixo_nome=\"_02_FFT\", save_plot=True, nome_plot=filename)\n",
    "\n",
    "        ####\n",
    "        # Movimentacao dos componentes de frequencia zero para o centro do espectro\n",
    "        ####\n",
    "        fft_shifted = np.fft.fftshift( fft_output ) # Desloca o centro zero da transformada para o centro.\n",
    "        #freq_shifted = np.fft.fftshift(freq)\n",
    "        \n",
    "        if (PLOT_SINAL_FFT_SHIFT):\n",
    "            plot_wav_freqDomain(fft_shifted, freq, N, sufixo_nome=\"_03_FFT-SHIFT\", save_plot=True, nome_plot=filename)\n",
    "\n",
    "        ####\n",
    "        # Aplicacao do Filtro Passa-Baixa Butterworth\n",
    "        ####\n",
    "        butter_order = 6\n",
    "        freq_corte = freq_max*0.3 # TODO: Precisa descobrir se essa e' uma boa frequencia de corte para utilizar no Passa-Baixa Butterworth\n",
    "        butter_cutoff = freq_corte / (0.5 * sample_rate)\n",
    "        \n",
    "        b, a = butter(butter_order, butter_cutoff, btype='low', analog=False)\n",
    "    \n",
    "        w, h = freqz(b, a, worN=8000)\n",
    "        \n",
    "        if(PLOT_SINAL_FFT_SHIFT_RESPFREQ):\n",
    "            plot_resposta_freq(w, h, sample_rate, freq_corte, sufixo_nome=\"_04_FFT-SHIFT-RESPFREQ\", save_plot=True, nome_plot=filename)\n",
    "        \n",
    "        \n",
    "        fft_X_filtro = lfilter(b, a, fft_shifted)\n",
    "        \n",
    "        if(PLOT_SINAL_FFT_SHIFT_BUTTER):\n",
    "            plot_wav_freqDomain(fft_X_filtro, freq, N, sufixo_nome=\"_05_FFT-SHIFT-FILT\", save_plot=True, nome_plot=filename)\n",
    "        \n",
    "        if(PLOT_SINAL_FFT_SHIFT_BUTTER_COMPARATIVO):\n",
    "            plt.plot(freq, fft_shifted.real, 'b-', label='data')\n",
    "            plt.plot(freq, fft_X_filtro.real, 'g-', linewidth=2, label='filtered data')\n",
    "            plt.title(\"_06_FFT-SHIFT-BUTTER-COMPARATIVO\", loc='left')\n",
    "            plt.title(filename, loc='right')\n",
    "            plt.xlabel('Time [sec]')\n",
    "            plt.grid()\n",
    "            plt.legend()\n",
    "            plt.savefig(filename + \"_\" + \"_06_FFT-SHIFT-BUTTER-COMPARATIVO\" + '.png', dpi=210)\n",
    "            plt.show()\n",
    "        \n",
    "        centro_espectro = (fft_X_filtro.shape[0])//2\n",
    "        offset = int((fft_X_filtro.shape[0]) * 0.05) # 5% de offset a partir do centro do espectro\n",
    "        \n",
    "        fft_filtro_corte = fft_X_filtro[centro_espectro-offset:centro_espectro+offset,]\n",
    "        freq_dataframe = freq[centro_espectro-offset:centro_espectro+offset,]\n",
    "\n",
    "        if(PLOT_SINAL_FFT_SHIFT_BUTTER_CORTE):\n",
    "            plot_wav_freqDomain(fft_filtro_corte, freq_dataframe, N, sufixo_nome=\"_07_FFT-CORTE\", save_plot=True, nome_plot=filename)\n",
    "        \n",
    "        \n",
    "        ####\n",
    "        # Adicao do sinal filtrado ao DataSet, para ser transformado em um DataFrame.\n",
    "        ####\n",
    "        signal_dataset.append(fft_filtro_corte)\n",
    "\n",
    "df_data = pd.DataFrame(signal_dataset)\n",
    "DATAFRAME_NAME = 'WAV_DF_RED_20xInst.pkl'\n",
    "df_data.to_pickle(DATAFRAME_NAME)"
   ]
  },
  {
   "cell_type": "markdown",
   "metadata": {},
   "source": [
    "### Guardar o DataFrame no PC, para evitar executar o código acima"
   ]
  },
  {
   "cell_type": "code",
   "execution_count": null,
   "metadata": {},
   "outputs": [],
   "source": [
    "DATAFRAME_NAME = 'WAV_DF.pkl'\n",
    "df_data.to_pickle(DATAFRAME_NAME)"
   ]
  },
  {
   "cell_type": "markdown",
   "metadata": {},
   "source": [
    "### Ler um DataFrame salvo na máquina"
   ]
  },
  {
   "cell_type": "code",
   "execution_count": null,
   "metadata": {},
   "outputs": [],
   "source": [
    "DATAFRAME_NAME = 'WAV_DF.pkl'\n",
    "data_frame = pd.read_pickle(DATAFRAME_NAME)\n",
    "\n",
    "print(data_frame)\n",
    "data_frame.describe()"
   ]
  },
  {
   "cell_type": "code",
   "execution_count": null,
   "metadata": {},
   "outputs": [],
   "source": []
  }
 ],
 "metadata": {
  "kernelspec": {
   "display_name": "Python 3",
   "language": "python",
   "name": "python3"
  },
  "language_info": {
   "codemirror_mode": {
    "name": "ipython",
    "version": 3
   },
   "file_extension": ".py",
   "mimetype": "text/x-python",
   "name": "python",
   "nbconvert_exporter": "python",
   "pygments_lexer": "ipython3",
   "version": "3.7.0"
  }
 },
 "nbformat": 4,
 "nbformat_minor": 2
}
